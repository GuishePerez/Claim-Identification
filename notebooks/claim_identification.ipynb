{
  "nbformat": 4,
  "nbformat_minor": 0,
  "metadata": {
    "colab": {
      "name": "claim_identification.ipynb",
      "provenance": [],
      "collapsed_sections": [
        "xyZRTv8G6Sty"
      ],
      "toc_visible": true
    },
    "kernelspec": {
      "name": "python3",
      "display_name": "Python 3"
    },
    "accelerator": "GPU"
  },
  "cells": [
    {
      "cell_type": "code",
      "metadata": {
        "id": "hM-HpKzYB06-",
        "colab": {
          "base_uri": "https://localhost:8080/"
        },
        "outputId": "710394a0-4839-434a-cf1a-cb792d9a4eea"
      },
      "source": [
        "!pip install boto3==1.15.18\n",
        "!pip install transformers\n",
        "!pip install tensorflow_text"
      ],
      "execution_count": 1,
      "outputs": [
        {
          "output_type": "stream",
          "text": [
            "Requirement already satisfied: boto3==1.15.18 in /usr/local/lib/python3.6/dist-packages (1.15.18)\n",
            "Requirement already satisfied: s3transfer<0.4.0,>=0.3.0 in /usr/local/lib/python3.6/dist-packages (from boto3==1.15.18) (0.3.4)\n",
            "Requirement already satisfied: botocore<1.19.0,>=1.18.18 in /usr/local/lib/python3.6/dist-packages (from boto3==1.15.18) (1.18.18)\n",
            "Requirement already satisfied: jmespath<1.0.0,>=0.7.1 in /usr/local/lib/python3.6/dist-packages (from boto3==1.15.18) (0.10.0)\n",
            "Requirement already satisfied: python-dateutil<3.0.0,>=2.1 in /usr/local/lib/python3.6/dist-packages (from botocore<1.19.0,>=1.18.18->boto3==1.15.18) (2.8.1)\n",
            "Requirement already satisfied: urllib3<1.26,>=1.20; python_version != \"3.4\" in /usr/local/lib/python3.6/dist-packages (from botocore<1.19.0,>=1.18.18->boto3==1.15.18) (1.24.3)\n",
            "Requirement already satisfied: six>=1.5 in /usr/local/lib/python3.6/dist-packages (from python-dateutil<3.0.0,>=2.1->botocore<1.19.0,>=1.18.18->boto3==1.15.18) (1.15.0)\n",
            "Requirement already satisfied: transformers in /usr/local/lib/python3.6/dist-packages (4.2.2)\n",
            "Requirement already satisfied: packaging in /usr/local/lib/python3.6/dist-packages (from transformers) (20.8)\n",
            "Requirement already satisfied: numpy in /usr/local/lib/python3.6/dist-packages (from transformers) (1.19.5)\n",
            "Requirement already satisfied: tokenizers==0.9.4 in /usr/local/lib/python3.6/dist-packages (from transformers) (0.9.4)\n",
            "Requirement already satisfied: dataclasses; python_version < \"3.7\" in /usr/local/lib/python3.6/dist-packages (from transformers) (0.8)\n",
            "Requirement already satisfied: importlib-metadata; python_version < \"3.8\" in /usr/local/lib/python3.6/dist-packages (from transformers) (3.4.0)\n",
            "Requirement already satisfied: regex!=2019.12.17 in /usr/local/lib/python3.6/dist-packages (from transformers) (2019.12.20)\n",
            "Requirement already satisfied: tqdm>=4.27 in /usr/local/lib/python3.6/dist-packages (from transformers) (4.41.1)\n",
            "Requirement already satisfied: filelock in /usr/local/lib/python3.6/dist-packages (from transformers) (3.0.12)\n",
            "Requirement already satisfied: requests in /usr/local/lib/python3.6/dist-packages (from transformers) (2.23.0)\n",
            "Requirement already satisfied: sacremoses in /usr/local/lib/python3.6/dist-packages (from transformers) (0.0.43)\n",
            "Requirement already satisfied: pyparsing>=2.0.2 in /usr/local/lib/python3.6/dist-packages (from packaging->transformers) (2.4.7)\n",
            "Requirement already satisfied: typing-extensions>=3.6.4; python_version < \"3.8\" in /usr/local/lib/python3.6/dist-packages (from importlib-metadata; python_version < \"3.8\"->transformers) (3.7.4.3)\n",
            "Requirement already satisfied: zipp>=0.5 in /usr/local/lib/python3.6/dist-packages (from importlib-metadata; python_version < \"3.8\"->transformers) (3.4.0)\n",
            "Requirement already satisfied: certifi>=2017.4.17 in /usr/local/lib/python3.6/dist-packages (from requests->transformers) (2020.12.5)\n",
            "Requirement already satisfied: chardet<4,>=3.0.2 in /usr/local/lib/python3.6/dist-packages (from requests->transformers) (3.0.4)\n",
            "Requirement already satisfied: urllib3!=1.25.0,!=1.25.1,<1.26,>=1.21.1 in /usr/local/lib/python3.6/dist-packages (from requests->transformers) (1.24.3)\n",
            "Requirement already satisfied: idna<3,>=2.5 in /usr/local/lib/python3.6/dist-packages (from requests->transformers) (2.10)\n",
            "Requirement already satisfied: joblib in /usr/local/lib/python3.6/dist-packages (from sacremoses->transformers) (1.0.0)\n",
            "Requirement already satisfied: click in /usr/local/lib/python3.6/dist-packages (from sacremoses->transformers) (7.1.2)\n",
            "Requirement already satisfied: six in /usr/local/lib/python3.6/dist-packages (from sacremoses->transformers) (1.15.0)\n",
            "Requirement already satisfied: tensorflow_text in /usr/local/lib/python3.6/dist-packages (2.4.3)\n",
            "Requirement already satisfied: tensorflow<2.5,>=2.4.0 in /usr/local/lib/python3.6/dist-packages (from tensorflow_text) (2.4.1)\n",
            "Requirement already satisfied: tensorflow-hub>=0.8.0 in /usr/local/lib/python3.6/dist-packages (from tensorflow_text) (0.11.0)\n",
            "Requirement already satisfied: termcolor~=1.1.0 in /usr/local/lib/python3.6/dist-packages (from tensorflow<2.5,>=2.4.0->tensorflow_text) (1.1.0)\n",
            "Requirement already satisfied: h5py~=2.10.0 in /usr/local/lib/python3.6/dist-packages (from tensorflow<2.5,>=2.4.0->tensorflow_text) (2.10.0)\n",
            "Requirement already satisfied: flatbuffers~=1.12.0 in /usr/local/lib/python3.6/dist-packages (from tensorflow<2.5,>=2.4.0->tensorflow_text) (1.12)\n",
            "Requirement already satisfied: wheel~=0.35 in /usr/local/lib/python3.6/dist-packages (from tensorflow<2.5,>=2.4.0->tensorflow_text) (0.36.2)\n",
            "Requirement already satisfied: astunparse~=1.6.3 in /usr/local/lib/python3.6/dist-packages (from tensorflow<2.5,>=2.4.0->tensorflow_text) (1.6.3)\n",
            "Requirement already satisfied: numpy~=1.19.2 in /usr/local/lib/python3.6/dist-packages (from tensorflow<2.5,>=2.4.0->tensorflow_text) (1.19.5)\n",
            "Requirement already satisfied: opt-einsum~=3.3.0 in /usr/local/lib/python3.6/dist-packages (from tensorflow<2.5,>=2.4.0->tensorflow_text) (3.3.0)\n",
            "Requirement already satisfied: protobuf>=3.9.2 in /usr/local/lib/python3.6/dist-packages (from tensorflow<2.5,>=2.4.0->tensorflow_text) (3.12.4)\n",
            "Requirement already satisfied: keras-preprocessing~=1.1.2 in /usr/local/lib/python3.6/dist-packages (from tensorflow<2.5,>=2.4.0->tensorflow_text) (1.1.2)\n",
            "Requirement already satisfied: six~=1.15.0 in /usr/local/lib/python3.6/dist-packages (from tensorflow<2.5,>=2.4.0->tensorflow_text) (1.15.0)\n",
            "Requirement already satisfied: wrapt~=1.12.1 in /usr/local/lib/python3.6/dist-packages (from tensorflow<2.5,>=2.4.0->tensorflow_text) (1.12.1)\n",
            "Requirement already satisfied: gast==0.3.3 in /usr/local/lib/python3.6/dist-packages (from tensorflow<2.5,>=2.4.0->tensorflow_text) (0.3.3)\n",
            "Requirement already satisfied: absl-py~=0.10 in /usr/local/lib/python3.6/dist-packages (from tensorflow<2.5,>=2.4.0->tensorflow_text) (0.10.0)\n",
            "Requirement already satisfied: typing-extensions~=3.7.4 in /usr/local/lib/python3.6/dist-packages (from tensorflow<2.5,>=2.4.0->tensorflow_text) (3.7.4.3)\n",
            "Requirement already satisfied: google-pasta~=0.2 in /usr/local/lib/python3.6/dist-packages (from tensorflow<2.5,>=2.4.0->tensorflow_text) (0.2.0)\n",
            "Requirement already satisfied: grpcio~=1.32.0 in /usr/local/lib/python3.6/dist-packages (from tensorflow<2.5,>=2.4.0->tensorflow_text) (1.32.0)\n",
            "Requirement already satisfied: tensorflow-estimator<2.5.0,>=2.4.0 in /usr/local/lib/python3.6/dist-packages (from tensorflow<2.5,>=2.4.0->tensorflow_text) (2.4.0)\n",
            "Requirement already satisfied: tensorboard~=2.4 in /usr/local/lib/python3.6/dist-packages (from tensorflow<2.5,>=2.4.0->tensorflow_text) (2.4.1)\n",
            "Requirement already satisfied: setuptools in /usr/local/lib/python3.6/dist-packages (from protobuf>=3.9.2->tensorflow<2.5,>=2.4.0->tensorflow_text) (51.3.3)\n",
            "Requirement already satisfied: markdown>=2.6.8 in /usr/local/lib/python3.6/dist-packages (from tensorboard~=2.4->tensorflow<2.5,>=2.4.0->tensorflow_text) (3.3.3)\n",
            "Requirement already satisfied: requests<3,>=2.21.0 in /usr/local/lib/python3.6/dist-packages (from tensorboard~=2.4->tensorflow<2.5,>=2.4.0->tensorflow_text) (2.23.0)\n",
            "Requirement already satisfied: tensorboard-plugin-wit>=1.6.0 in /usr/local/lib/python3.6/dist-packages (from tensorboard~=2.4->tensorflow<2.5,>=2.4.0->tensorflow_text) (1.8.0)\n",
            "Requirement already satisfied: google-auth<2,>=1.6.3 in /usr/local/lib/python3.6/dist-packages (from tensorboard~=2.4->tensorflow<2.5,>=2.4.0->tensorflow_text) (1.17.2)\n",
            "Requirement already satisfied: google-auth-oauthlib<0.5,>=0.4.1 in /usr/local/lib/python3.6/dist-packages (from tensorboard~=2.4->tensorflow<2.5,>=2.4.0->tensorflow_text) (0.4.2)\n",
            "Requirement already satisfied: werkzeug>=0.11.15 in /usr/local/lib/python3.6/dist-packages (from tensorboard~=2.4->tensorflow<2.5,>=2.4.0->tensorflow_text) (1.0.1)\n",
            "Requirement already satisfied: importlib-metadata; python_version < \"3.8\" in /usr/local/lib/python3.6/dist-packages (from markdown>=2.6.8->tensorboard~=2.4->tensorflow<2.5,>=2.4.0->tensorflow_text) (3.4.0)\n",
            "Requirement already satisfied: idna<3,>=2.5 in /usr/local/lib/python3.6/dist-packages (from requests<3,>=2.21.0->tensorboard~=2.4->tensorflow<2.5,>=2.4.0->tensorflow_text) (2.10)\n",
            "Requirement already satisfied: chardet<4,>=3.0.2 in /usr/local/lib/python3.6/dist-packages (from requests<3,>=2.21.0->tensorboard~=2.4->tensorflow<2.5,>=2.4.0->tensorflow_text) (3.0.4)\n",
            "Requirement already satisfied: certifi>=2017.4.17 in /usr/local/lib/python3.6/dist-packages (from requests<3,>=2.21.0->tensorboard~=2.4->tensorflow<2.5,>=2.4.0->tensorflow_text) (2020.12.5)\n",
            "Requirement already satisfied: urllib3!=1.25.0,!=1.25.1,<1.26,>=1.21.1 in /usr/local/lib/python3.6/dist-packages (from requests<3,>=2.21.0->tensorboard~=2.4->tensorflow<2.5,>=2.4.0->tensorflow_text) (1.24.3)\n",
            "Requirement already satisfied: pyasn1-modules>=0.2.1 in /usr/local/lib/python3.6/dist-packages (from google-auth<2,>=1.6.3->tensorboard~=2.4->tensorflow<2.5,>=2.4.0->tensorflow_text) (0.2.8)\n",
            "Requirement already satisfied: rsa<5,>=3.1.4; python_version >= \"3\" in /usr/local/lib/python3.6/dist-packages (from google-auth<2,>=1.6.3->tensorboard~=2.4->tensorflow<2.5,>=2.4.0->tensorflow_text) (4.7)\n",
            "Requirement already satisfied: cachetools<5.0,>=2.0.0 in /usr/local/lib/python3.6/dist-packages (from google-auth<2,>=1.6.3->tensorboard~=2.4->tensorflow<2.5,>=2.4.0->tensorflow_text) (4.2.1)\n",
            "Requirement already satisfied: requests-oauthlib>=0.7.0 in /usr/local/lib/python3.6/dist-packages (from google-auth-oauthlib<0.5,>=0.4.1->tensorboard~=2.4->tensorflow<2.5,>=2.4.0->tensorflow_text) (1.3.0)\n",
            "Requirement already satisfied: zipp>=0.5 in /usr/local/lib/python3.6/dist-packages (from importlib-metadata; python_version < \"3.8\"->markdown>=2.6.8->tensorboard~=2.4->tensorflow<2.5,>=2.4.0->tensorflow_text) (3.4.0)\n",
            "Requirement already satisfied: pyasn1<0.5.0,>=0.4.6 in /usr/local/lib/python3.6/dist-packages (from pyasn1-modules>=0.2.1->google-auth<2,>=1.6.3->tensorboard~=2.4->tensorflow<2.5,>=2.4.0->tensorflow_text) (0.4.8)\n",
            "Requirement already satisfied: oauthlib>=3.0.0 in /usr/local/lib/python3.6/dist-packages (from requests-oauthlib>=0.7.0->google-auth-oauthlib<0.5,>=0.4.1->tensorboard~=2.4->tensorflow<2.5,>=2.4.0->tensorflow_text) (3.1.0)\n"
          ],
          "name": "stdout"
        }
      ]
    },
    {
      "cell_type": "code",
      "metadata": {
        "id": "G22kGplg7Ztp"
      },
      "source": [
        "import bson\n",
        "import os\n",
        "import boto3\n",
        "import pandas as pd\n",
        "import numpy as np\n",
        "from sklearn.model_selection import train_test_split\n",
        "from sklearn.preprocessing import OneHotEncoder\n",
        "from sklearn.metrics import (confusion_matrix, \n",
        "                             accuracy_score, \n",
        "                             precision_recall_fscore_support, \n",
        "                             classification_report)\n",
        "import tensorflow as tf\n",
        "import tensorflow_hub as hub\n",
        "import tensorflow_text\n",
        "import tensorflow.keras.backend as K\n",
        "import torch\n",
        "import random\n",
        "import time\n",
        "import datetime\n",
        "import matplotlib.pyplot as plt\n",
        "%matplotlib inline\n",
        "from matplotlib.colors import PowerNorm\n",
        "plt.style.use('seaborn')\n",
        "import seaborn as sns"
      ],
      "execution_count": 2,
      "outputs": []
    },
    {
      "cell_type": "markdown",
      "metadata": {
        "id": "uHyb-57EwQ7S"
      },
      "source": [
        "## Data Loading"
      ]
    },
    {
      "cell_type": "code",
      "metadata": {
        "id": "W-xkTbieIt8P",
        "colab": {
          "base_uri": "https://localhost:8080/"
        },
        "outputId": "da9e41ac-5dff-4102-cf36-f131c4a58cd0"
      },
      "source": [
        "from google.colab import drive\n",
        "drive.mount('/content/drive')"
      ],
      "execution_count": 3,
      "outputs": [
        {
          "output_type": "stream",
          "text": [
            "Drive already mounted at /content/drive; to attempt to forcibly remount, call drive.mount(\"/content/drive\", force_remount=True).\n"
          ],
          "name": "stdout"
        }
      ]
    },
    {
      "cell_type": "code",
      "metadata": {
        "id": "U-6AJATe_CDc"
      },
      "source": [
        "with open(r'drive/MyDrive/ColabNotebooks/claim_check_worthiness/claims.bson', 'rb') as f:\n",
        "  claims_json = bson.decode_all(f.read())"
      ],
      "execution_count": 4,
      "outputs": []
    },
    {
      "cell_type": "code",
      "metadata": {
        "id": "fz1EA2ki4Foz"
      },
      "source": [
        "def reformat_dataset(raw_data: list=[]) -> pd.DataFrame:\n",
        "  \"\"\" Convert json format to more readable pandas DataFrame\n",
        "  \"\"\"\n",
        "  columns = raw_data[0].keys()\n",
        "  df = pd.DataFrame(columns=columns)\n",
        "  for i in range(raw_data.__len__()):\n",
        "    df.loc[i, :] = raw_data[i]\n",
        "  return df"
      ],
      "execution_count": 5,
      "outputs": []
    },
    {
      "cell_type": "code",
      "metadata": {
        "id": "g3vCkvMCDxY7"
      },
      "source": [
        "claims_df = reformat_dataset(claims_json)"
      ],
      "execution_count": 6,
      "outputs": []
    },
    {
      "cell_type": "code",
      "metadata": {
        "id": "qddmdjrIFtPM",
        "colab": {
          "base_uri": "https://localhost:8080/",
          "height": 419
        },
        "outputId": "758943fa-f9f2-41dd-e895-34759cad5c9e"
      },
      "source": [
        "claims_df"
      ],
      "execution_count": 7,
      "outputs": [
        {
          "output_type": "execute_result",
          "data": {
            "text/html": [
              "<div>\n",
              "<style scoped>\n",
              "    .dataframe tbody tr th:only-of-type {\n",
              "        vertical-align: middle;\n",
              "    }\n",
              "\n",
              "    .dataframe tbody tr th {\n",
              "        vertical-align: top;\n",
              "    }\n",
              "\n",
              "    .dataframe thead th {\n",
              "        text-align: right;\n",
              "    }\n",
              "</style>\n",
              "<table border=\"1\" class=\"dataframe\">\n",
              "  <thead>\n",
              "    <tr style=\"text-align: right;\">\n",
              "      <th></th>\n",
              "      <th>_id</th>\n",
              "      <th>text_es</th>\n",
              "      <th>text_en</th>\n",
              "      <th>text_fr</th>\n",
              "      <th>claim</th>\n",
              "    </tr>\n",
              "  </thead>\n",
              "  <tbody>\n",
              "    <tr>\n",
              "      <th>0</th>\n",
              "      <td>5f80940cf95f926ca81a3751</td>\n",
              "      <td>Gracias.</td>\n",
              "      <td>Thank you.</td>\n",
              "      <td>Merci.</td>\n",
              "      <td>0</td>\n",
              "    </tr>\n",
              "    <tr>\n",
              "      <th>1</th>\n",
              "      <td>5f80940cf95f926ca81a3752</td>\n",
              "      <td>Por ejemplo, cuando estamos hablando de un pa...</td>\n",
              "      <td>For example, when we are talking about a coun...</td>\n",
              "      <td>Par exemple, quand on parle d’un pays qui doi...</td>\n",
              "      <td>0</td>\n",
              "    </tr>\n",
              "    <tr>\n",
              "      <th>2</th>\n",
              "      <td>5f80940cf95f926ca81a3753</td>\n",
              "      <td>Entonces como solo creo que es como la políti...</td>\n",
              "      <td>So as I just think it's like the politics of ...</td>\n",
              "      <td>Donc, comme je pense que c’est comme la polit...</td>\n",
              "      <td>0</td>\n",
              "    </tr>\n",
              "    <tr>\n",
              "      <th>3</th>\n",
              "      <td>5f80940cf95f926ca81a3754</td>\n",
              "      <td>Y pienso que el Partido Popular no ha estado ...</td>\n",
              "      <td>And I think the People's Party has not risen ...</td>\n",
              "      <td>Et je pense que le Parti populaire n’a pas ét...</td>\n",
              "      <td>0</td>\n",
              "    </tr>\n",
              "    <tr>\n",
              "      <th>4</th>\n",
              "      <td>5f80940cf95f926ca81a3755</td>\n",
              "      <td>Lo siguiente Nos vamos ya volando y les dejo ...</td>\n",
              "      <td>The next thing We fly and I leave you with th...</td>\n",
              "      <td>La prochaine chose que nous volons et je vous...</td>\n",
              "      <td>0</td>\n",
              "    </tr>\n",
              "    <tr>\n",
              "      <th>...</th>\n",
              "      <td>...</td>\n",
              "      <td>...</td>\n",
              "      <td>...</td>\n",
              "      <td>...</td>\n",
              "      <td>...</td>\n",
              "    </tr>\n",
              "    <tr>\n",
              "      <th>14348</th>\n",
              "      <td>5f80940df95f926ca81a6f5d</td>\n",
              "      <td>Que la agricultura pueda alimentar a los ciud...</td>\n",
              "      <td>That agriculture can feed the citizens.</td>\n",
              "      <td>Que l’agriculture peut nourrir les citoyens.</td>\n",
              "      <td>0</td>\n",
              "    </tr>\n",
              "    <tr>\n",
              "      <th>14349</th>\n",
              "      <td>5f80940df95f926ca81a6f5e</td>\n",
              "      <td>Hay que homologar con el resto de países euro...</td>\n",
              "      <td>We have to homologate with the other European...</td>\n",
              "      <td>Nous devons nous homologuer avec les autres p...</td>\n",
              "      <td>0</td>\n",
              "    </tr>\n",
              "    <tr>\n",
              "      <th>14350</th>\n",
              "      <td>5f80940df95f926ca81a6f5f</td>\n",
              "      <td>Dicen ustedes del programa inicial del gobier...</td>\n",
              "      <td>Do you say of the coalition government's init...</td>\n",
              "      <td>Dites-vous du programme initial du gouverneme...</td>\n",
              "      <td>0</td>\n",
              "    </tr>\n",
              "    <tr>\n",
              "      <th>14351</th>\n",
              "      <td>5f80940df95f926ca81a6f60</td>\n",
              "      <td>Hace falta sentarse las fuerzas políticas que...</td>\n",
              "      <td>We need to sit down the political forces that...</td>\n",
              "      <td>Nous devons asseoir les forces politiques que...</td>\n",
              "      <td>0</td>\n",
              "    </tr>\n",
              "    <tr>\n",
              "      <th>14352</th>\n",
              "      <td>5f80940df95f926ca81a6f61</td>\n",
              "      <td>El fondo de recuperación, a mi juicio a nivel...</td>\n",
              "      <td>The recovery fund, in my view at European lev...</td>\n",
              "      <td>Le fonds de relance, à mon avis au niveau eur...</td>\n",
              "      <td>0</td>\n",
              "    </tr>\n",
              "  </tbody>\n",
              "</table>\n",
              "<p>14353 rows × 5 columns</p>\n",
              "</div>"
            ],
            "text/plain": [
              "                            _id  ... claim\n",
              "0      5f80940cf95f926ca81a3751  ...     0\n",
              "1      5f80940cf95f926ca81a3752  ...     0\n",
              "2      5f80940cf95f926ca81a3753  ...     0\n",
              "3      5f80940cf95f926ca81a3754  ...     0\n",
              "4      5f80940cf95f926ca81a3755  ...     0\n",
              "...                         ...  ...   ...\n",
              "14348  5f80940df95f926ca81a6f5d  ...     0\n",
              "14349  5f80940df95f926ca81a6f5e  ...     0\n",
              "14350  5f80940df95f926ca81a6f5f  ...     0\n",
              "14351  5f80940df95f926ca81a6f60  ...     0\n",
              "14352  5f80940df95f926ca81a6f61  ...     0\n",
              "\n",
              "[14353 rows x 5 columns]"
            ]
          },
          "metadata": {
            "tags": []
          },
          "execution_count": 7
        }
      ]
    },
    {
      "cell_type": "markdown",
      "metadata": {
        "id": "xyZRTv8G6Sty"
      },
      "source": [
        "## Exploratory Data Analysis"
      ]
    },
    {
      "cell_type": "markdown",
      "metadata": {
        "id": "nEK9K2ZDyHpR"
      },
      "source": [
        "Data seems considerably imbalanced, with really few samples corresponding to *check-worthy claims*"
      ]
    },
    {
      "cell_type": "code",
      "metadata": {
        "id": "R3r30LVfF6Ba",
        "colab": {
          "base_uri": "https://localhost:8080/"
        },
        "outputId": "e29c46ab-01db-44a9-8cab-f94b8d651c31"
      },
      "source": [
        "print(f\"Verificable claims: {claims_df.loc[claims_df.claim == 1].__len__()} ({np.round(claims_df.loc[claims_df.claim == 1].__len__()/claims_df.__len__(), 4)}%)\")"
      ],
      "execution_count": 15,
      "outputs": [
        {
          "output_type": "stream",
          "text": [
            "Verificable claims: 1065 (0.0742%)\n"
          ],
          "name": "stdout"
        }
      ]
    },
    {
      "cell_type": "markdown",
      "metadata": {
        "id": "2w9-sKOPwWDR"
      },
      "source": [
        "Check duplicated samples in dataset"
      ]
    },
    {
      "cell_type": "code",
      "metadata": {
        "id": "xofaP5v5whT6",
        "colab": {
          "base_uri": "https://localhost:8080/"
        },
        "outputId": "59e088cc-e5f3-4394-9d89-3516df948883"
      },
      "source": [
        "any(claims_df.duplicated())"
      ],
      "execution_count": 16,
      "outputs": [
        {
          "output_type": "execute_result",
          "data": {
            "text/plain": [
              "False"
            ]
          },
          "metadata": {
            "tags": []
          },
          "execution_count": 16
        }
      ]
    },
    {
      "cell_type": "code",
      "metadata": {
        "id": "7dPtjqzdqw_R",
        "colab": {
          "base_uri": "https://localhost:8080/",
          "height": 0
        },
        "outputId": "1c69d570-3dec-4819-a570-ce9e7851c57d"
      },
      "source": [
        "claims_df[claims_df.duplicated(subset=['text_es', 'text_en', 'text_fr'])]"
      ],
      "execution_count": 17,
      "outputs": [
        {
          "output_type": "execute_result",
          "data": {
            "text/html": [
              "<div>\n",
              "<style scoped>\n",
              "    .dataframe tbody tr th:only-of-type {\n",
              "        vertical-align: middle;\n",
              "    }\n",
              "\n",
              "    .dataframe tbody tr th {\n",
              "        vertical-align: top;\n",
              "    }\n",
              "\n",
              "    .dataframe thead th {\n",
              "        text-align: right;\n",
              "    }\n",
              "</style>\n",
              "<table border=\"1\" class=\"dataframe\">\n",
              "  <thead>\n",
              "    <tr style=\"text-align: right;\">\n",
              "      <th></th>\n",
              "      <th>_id</th>\n",
              "      <th>text_es</th>\n",
              "      <th>text_en</th>\n",
              "      <th>text_fr</th>\n",
              "      <th>claim</th>\n",
              "    </tr>\n",
              "  </thead>\n",
              "  <tbody>\n",
              "    <tr>\n",
              "      <th>317</th>\n",
              "      <td>5f80940cf95f926ca81a388e</td>\n",
              "      <td>Buenos días.</td>\n",
              "      <td>Good morning.</td>\n",
              "      <td>Bonjour.</td>\n",
              "      <td>0</td>\n",
              "    </tr>\n",
              "    <tr>\n",
              "      <th>347</th>\n",
              "      <td>5f80940cf95f926ca81a38ac</td>\n",
              "      <td>Busque hoy mismo prueba gratuita de WebEx.</td>\n",
              "      <td>Look for WebEx free trial today.</td>\n",
              "      <td>Recherchez l’essai gratuit WebEx dès aujourd’...</td>\n",
              "      <td>0</td>\n",
              "    </tr>\n",
              "    <tr>\n",
              "      <th>348</th>\n",
              "      <td>5f80940cf95f926ca81a38ad</td>\n",
              "      <td>Gracias.</td>\n",
              "      <td>Thank you.</td>\n",
              "      <td>Merci.</td>\n",
              "      <td>0</td>\n",
              "    </tr>\n",
              "    <tr>\n",
              "      <th>349</th>\n",
              "      <td>5f80940cf95f926ca81a38ae</td>\n",
              "      <td>Por qué?</td>\n",
              "      <td>Why?</td>\n",
              "      <td>Pourquoi?</td>\n",
              "      <td>0</td>\n",
              "    </tr>\n",
              "    <tr>\n",
              "      <th>350</th>\n",
              "      <td>5f80940cf95f926ca81a38af</td>\n",
              "      <td>Buenos días.</td>\n",
              "      <td>Good morning.</td>\n",
              "      <td>Bonjour.</td>\n",
              "      <td>0</td>\n",
              "    </tr>\n",
              "    <tr>\n",
              "      <th>...</th>\n",
              "      <td>...</td>\n",
              "      <td>...</td>\n",
              "      <td>...</td>\n",
              "      <td>...</td>\n",
              "      <td>...</td>\n",
              "    </tr>\n",
              "    <tr>\n",
              "      <th>14201</th>\n",
              "      <td>5f80940df95f926ca81a6eca</td>\n",
              "      <td>Hola buenos días.</td>\n",
              "      <td>Hello good morning.</td>\n",
              "      <td>bonjour bonjour.</td>\n",
              "      <td>0</td>\n",
              "    </tr>\n",
              "    <tr>\n",
              "      <th>14231</th>\n",
              "      <td>5f80940df95f926ca81a6ee8</td>\n",
              "      <td>Muchísimas gracias a ustedes.</td>\n",
              "      <td>Thank you very much.</td>\n",
              "      <td>Merci beaucoup.</td>\n",
              "      <td>0</td>\n",
              "    </tr>\n",
              "    <tr>\n",
              "      <th>14242</th>\n",
              "      <td>5f80940df95f926ca81a6ef3</td>\n",
              "      <td>Es decir.</td>\n",
              "      <td>I mean.</td>\n",
              "      <td>Je veux dire.</td>\n",
              "      <td>0</td>\n",
              "    </tr>\n",
              "    <tr>\n",
              "      <th>14279</th>\n",
              "      <td>5f80940df95f926ca81a6f18</td>\n",
              "      <td>Como bien sabéis hay dos tipos de controles u...</td>\n",
              "      <td>As you know there are two types of controls, ...</td>\n",
              "      <td>Comme vous le savez, il existe deux types de ...</td>\n",
              "      <td>1</td>\n",
              "    </tr>\n",
              "    <tr>\n",
              "      <th>14323</th>\n",
              "      <td>5f80940df95f926ca81a6f44</td>\n",
              "      <td>Esto es así.</td>\n",
              "      <td>That's the way it is.</td>\n",
              "      <td>C’est comme ça.</td>\n",
              "      <td>0</td>\n",
              "    </tr>\n",
              "  </tbody>\n",
              "</table>\n",
              "<p>487 rows × 5 columns</p>\n",
              "</div>"
            ],
            "text/plain": [
              "                            _id  ... claim\n",
              "317    5f80940cf95f926ca81a388e  ...     0\n",
              "347    5f80940cf95f926ca81a38ac  ...     0\n",
              "348    5f80940cf95f926ca81a38ad  ...     0\n",
              "349    5f80940cf95f926ca81a38ae  ...     0\n",
              "350    5f80940cf95f926ca81a38af  ...     0\n",
              "...                         ...  ...   ...\n",
              "14201  5f80940df95f926ca81a6eca  ...     0\n",
              "14231  5f80940df95f926ca81a6ee8  ...     0\n",
              "14242  5f80940df95f926ca81a6ef3  ...     0\n",
              "14279  5f80940df95f926ca81a6f18  ...     1\n",
              "14323  5f80940df95f926ca81a6f44  ...     0\n",
              "\n",
              "[487 rows x 5 columns]"
            ]
          },
          "metadata": {
            "tags": []
          },
          "execution_count": 17
        }
      ]
    },
    {
      "cell_type": "markdown",
      "metadata": {
        "id": "WMqvFWzSwuX8"
      },
      "source": [
        "Indeed there are duplicates, not by unique MongoDB id but same text strings repeated multiple times. For example the case shown below:"
      ]
    },
    {
      "cell_type": "code",
      "metadata": {
        "id": "6AMKw1IHrnIH",
        "colab": {
          "base_uri": "https://localhost:8080/",
          "height": 0
        },
        "outputId": "a613f742-72cf-411f-b09b-0d9929350e72"
      },
      "source": [
        "claims_df.loc[claims_df['text_es'].str.contains('Busque hoy mismo prueba gratuita de WebEx.')]"
      ],
      "execution_count": 18,
      "outputs": [
        {
          "output_type": "execute_result",
          "data": {
            "text/html": [
              "<div>\n",
              "<style scoped>\n",
              "    .dataframe tbody tr th:only-of-type {\n",
              "        vertical-align: middle;\n",
              "    }\n",
              "\n",
              "    .dataframe tbody tr th {\n",
              "        vertical-align: top;\n",
              "    }\n",
              "\n",
              "    .dataframe thead th {\n",
              "        text-align: right;\n",
              "    }\n",
              "</style>\n",
              "<table border=\"1\" class=\"dataframe\">\n",
              "  <thead>\n",
              "    <tr style=\"text-align: right;\">\n",
              "      <th></th>\n",
              "      <th>_id</th>\n",
              "      <th>text_es</th>\n",
              "      <th>text_en</th>\n",
              "      <th>text_fr</th>\n",
              "      <th>claim</th>\n",
              "    </tr>\n",
              "  </thead>\n",
              "  <tbody>\n",
              "    <tr>\n",
              "      <th>237</th>\n",
              "      <td>5f80940cf95f926ca81a383e</td>\n",
              "      <td>Busque hoy mismo prueba gratuita de WebEx.</td>\n",
              "      <td>Look for WebEx free trial today.</td>\n",
              "      <td>Recherchez l’essai gratuit WebEx dès aujourd’...</td>\n",
              "      <td>0</td>\n",
              "    </tr>\n",
              "    <tr>\n",
              "      <th>347</th>\n",
              "      <td>5f80940cf95f926ca81a38ac</td>\n",
              "      <td>Busque hoy mismo prueba gratuita de WebEx.</td>\n",
              "      <td>Look for WebEx free trial today.</td>\n",
              "      <td>Recherchez l’essai gratuit WebEx dès aujourd’...</td>\n",
              "      <td>0</td>\n",
              "    </tr>\n",
              "  </tbody>\n",
              "</table>\n",
              "</div>"
            ],
            "text/plain": [
              "                          _id  ... claim\n",
              "237  5f80940cf95f926ca81a383e  ...     0\n",
              "347  5f80940cf95f926ca81a38ac  ...     0\n",
              "\n",
              "[2 rows x 5 columns]"
            ]
          },
          "metadata": {
            "tags": []
          },
          "execution_count": 18
        }
      ]
    },
    {
      "cell_type": "markdown",
      "metadata": {
        "id": "X4kVVZ-oxvKm"
      },
      "source": [
        "Let's check again the ratio of *check-worthy claims* with respect to the total of samples composing the given dataset."
      ]
    },
    {
      "cell_type": "code",
      "metadata": {
        "id": "od4Po7Ety3NF"
      },
      "source": [
        "claims_df.drop_duplicates(subset=['text_es', 'text_en', 'text_fr'], inplace=True, ignore_index=True)"
      ],
      "execution_count": 19,
      "outputs": []
    },
    {
      "cell_type": "code",
      "metadata": {
        "id": "CzyPc8SDzyTq",
        "colab": {
          "base_uri": "https://localhost:8080/"
        },
        "outputId": "bed73f31-ffd2-48b6-b78f-b8ebbea57d86"
      },
      "source": [
        "print(f\"Verificable claims: {claims_df.loc[claims_df.claim == 1].__len__()} ({np.round(claims_df.loc[claims_df.claim == 1].__len__()/claims_df.__len__(), 4)}%)\")"
      ],
      "execution_count": 20,
      "outputs": [
        {
          "output_type": "stream",
          "text": [
            "Verificable claims: 995 (0.0718%)\n"
          ],
          "name": "stdout"
        }
      ]
    },
    {
      "cell_type": "markdown",
      "metadata": {
        "id": "nyEfdiqo2flc"
      },
      "source": [
        "The ratio is reduced but not significantly"
      ]
    },
    {
      "cell_type": "code",
      "metadata": {
        "id": "nQ4A9gotJNdR"
      },
      "source": [
        "claims_df_es = claims_df[['text_es', 'claim']].rename(columns={'text_es': 'text'})\n",
        "claims_df_es['lang'] = 'es'\n",
        "claims_df_en = claims_df[['text_en', 'claim']].rename(columns={'text_en': 'text'})\n",
        "claims_df_en['lang'] = 'en'\n",
        "claims_df_fr = claims_df[['text_fr', 'claim']].rename(columns={'text_fr': 'text'})\n",
        "claims_df_fr['lang'] = 'fr'"
      ],
      "execution_count": 21,
      "outputs": []
    },
    {
      "cell_type": "code",
      "metadata": {
        "id": "XgndXpcEhQU0"
      },
      "source": [
        "claims_df_multi = pd.concat([claims_df_es, claims_df_en, claims_df_fr], ignore_index=True)"
      ],
      "execution_count": 22,
      "outputs": []
    },
    {
      "cell_type": "code",
      "metadata": {
        "id": "eKDHcDIo29Xr",
        "colab": {
          "base_uri": "https://localhost:8080/",
          "height": 0
        },
        "outputId": "4f98736e-208d-4e25-9046-b80618296f57"
      },
      "source": [
        "claims_df_multi"
      ],
      "execution_count": 23,
      "outputs": [
        {
          "output_type": "execute_result",
          "data": {
            "text/html": [
              "<div>\n",
              "<style scoped>\n",
              "    .dataframe tbody tr th:only-of-type {\n",
              "        vertical-align: middle;\n",
              "    }\n",
              "\n",
              "    .dataframe tbody tr th {\n",
              "        vertical-align: top;\n",
              "    }\n",
              "\n",
              "    .dataframe thead th {\n",
              "        text-align: right;\n",
              "    }\n",
              "</style>\n",
              "<table border=\"1\" class=\"dataframe\">\n",
              "  <thead>\n",
              "    <tr style=\"text-align: right;\">\n",
              "      <th></th>\n",
              "      <th>text</th>\n",
              "      <th>claim</th>\n",
              "      <th>lang</th>\n",
              "    </tr>\n",
              "  </thead>\n",
              "  <tbody>\n",
              "    <tr>\n",
              "      <th>0</th>\n",
              "      <td>Gracias.</td>\n",
              "      <td>0</td>\n",
              "      <td>es</td>\n",
              "    </tr>\n",
              "    <tr>\n",
              "      <th>1</th>\n",
              "      <td>Por ejemplo, cuando estamos hablando de un pa...</td>\n",
              "      <td>0</td>\n",
              "      <td>es</td>\n",
              "    </tr>\n",
              "    <tr>\n",
              "      <th>2</th>\n",
              "      <td>Entonces como solo creo que es como la políti...</td>\n",
              "      <td>0</td>\n",
              "      <td>es</td>\n",
              "    </tr>\n",
              "    <tr>\n",
              "      <th>3</th>\n",
              "      <td>Y pienso que el Partido Popular no ha estado ...</td>\n",
              "      <td>0</td>\n",
              "      <td>es</td>\n",
              "    </tr>\n",
              "    <tr>\n",
              "      <th>4</th>\n",
              "      <td>Lo siguiente Nos vamos ya volando y les dejo ...</td>\n",
              "      <td>0</td>\n",
              "      <td>es</td>\n",
              "    </tr>\n",
              "    <tr>\n",
              "      <th>...</th>\n",
              "      <td>...</td>\n",
              "      <td>...</td>\n",
              "      <td>...</td>\n",
              "    </tr>\n",
              "    <tr>\n",
              "      <th>41593</th>\n",
              "      <td>Que l’agriculture peut nourrir les citoyens.</td>\n",
              "      <td>0</td>\n",
              "      <td>fr</td>\n",
              "    </tr>\n",
              "    <tr>\n",
              "      <th>41594</th>\n",
              "      <td>Nous devons nous homologuer avec les autres p...</td>\n",
              "      <td>0</td>\n",
              "      <td>fr</td>\n",
              "    </tr>\n",
              "    <tr>\n",
              "      <th>41595</th>\n",
              "      <td>Dites-vous du programme initial du gouverneme...</td>\n",
              "      <td>0</td>\n",
              "      <td>fr</td>\n",
              "    </tr>\n",
              "    <tr>\n",
              "      <th>41596</th>\n",
              "      <td>Nous devons asseoir les forces politiques que...</td>\n",
              "      <td>0</td>\n",
              "      <td>fr</td>\n",
              "    </tr>\n",
              "    <tr>\n",
              "      <th>41597</th>\n",
              "      <td>Le fonds de relance, à mon avis au niveau eur...</td>\n",
              "      <td>0</td>\n",
              "      <td>fr</td>\n",
              "    </tr>\n",
              "  </tbody>\n",
              "</table>\n",
              "<p>41598 rows × 3 columns</p>\n",
              "</div>"
            ],
            "text/plain": [
              "                                                    text claim lang\n",
              "0                                               Gracias.     0   es\n",
              "1       Por ejemplo, cuando estamos hablando de un pa...     0   es\n",
              "2       Entonces como solo creo que es como la políti...     0   es\n",
              "3       Y pienso que el Partido Popular no ha estado ...     0   es\n",
              "4       Lo siguiente Nos vamos ya volando y les dejo ...     0   es\n",
              "...                                                  ...   ...  ...\n",
              "41593       Que l’agriculture peut nourrir les citoyens.     0   fr\n",
              "41594   Nous devons nous homologuer avec les autres p...     0   fr\n",
              "41595   Dites-vous du programme initial du gouverneme...     0   fr\n",
              "41596   Nous devons asseoir les forces politiques que...     0   fr\n",
              "41597   Le fonds de relance, à mon avis au niveau eur...     0   fr\n",
              "\n",
              "[41598 rows x 3 columns]"
            ]
          },
          "metadata": {
            "tags": []
          },
          "execution_count": 23
        }
      ]
    },
    {
      "cell_type": "markdown",
      "metadata": {
        "id": "qWST7O_aJEFJ"
      },
      "source": [
        "Create tran, validation and test splits for the model fitting and evaluation workflow."
      ]
    },
    {
      "cell_type": "code",
      "metadata": {
        "id": "cuOi6yKbmCCh"
      },
      "source": [
        "X_train, X_test, y_train, y_test = train_test_split(claims_df_multi[['text', 'lang']].values, claims_df_multi['claim'].values, test_size=0.1, random_state=42, stratify=claims_df_multi[['claim', 'lang']].values)"
      ],
      "execution_count": 24,
      "outputs": []
    },
    {
      "cell_type": "code",
      "metadata": {
        "id": "S0e6XUeAnoBj"
      },
      "source": [
        "train_text = pd.DataFrame({'text': X_train[:, 0], 'lang': X_train[:, 1], 'claim': y_train})\n",
        "test_text = pd.DataFrame({'text': X_test[:, 0], 'lang': X_test[:, 1], 'claim': y_test})"
      ],
      "execution_count": 25,
      "outputs": []
    },
    {
      "cell_type": "code",
      "metadata": {
        "id": "QoB5W6wQC49K"
      },
      "source": [
        "X_train, X_val, y_train, y_val = train_test_split(train_text[['text', 'lang']].values, train_text['claim'].values, test_size=len(test_text)/len(train_text), random_state=42, stratify=train_text[['claim', 'lang']].values)\n",
        "train_text = pd.DataFrame({'text': X_train[:, 0], 'lang': X_train[:, 1], 'claim': y_train})\n",
        "val_text = pd.DataFrame({'text': X_val[:, 0], 'lang': X_val[:, 1], 'claim': y_val})"
      ],
      "execution_count": 26,
      "outputs": []
    },
    {
      "cell_type": "code",
      "metadata": {
        "id": "FUZ9UjP3DfYp",
        "colab": {
          "base_uri": "https://localhost:8080/"
        },
        "outputId": "6460f8b3-e669-4802-e748-a279874c33f2"
      },
      "source": [
        "print(f\"Trainset samples: {len(train_text)}\")\n",
        "print(f\"Trainset samples: {len(val_text)}\")\n",
        "print(f\"Trainset samples: {len(test_text)}\")"
      ],
      "execution_count": 27,
      "outputs": [
        {
          "output_type": "stream",
          "text": [
            "Trainset samples: 33278\n",
            "Trainset samples: 4160\n",
            "Trainset samples: 4160\n"
          ],
          "name": "stdout"
        }
      ]
    },
    {
      "cell_type": "code",
      "metadata": {
        "id": "k0HvY1Ulntiw",
        "colab": {
          "base_uri": "https://localhost:8080/",
          "height": 0
        },
        "outputId": "eaeab3c5-598f-40a3-b295-6ee6ede7fe75"
      },
      "source": [
        "train_text"
      ],
      "execution_count": 28,
      "outputs": [
        {
          "output_type": "execute_result",
          "data": {
            "text/html": [
              "<div>\n",
              "<style scoped>\n",
              "    .dataframe tbody tr th:only-of-type {\n",
              "        vertical-align: middle;\n",
              "    }\n",
              "\n",
              "    .dataframe tbody tr th {\n",
              "        vertical-align: top;\n",
              "    }\n",
              "\n",
              "    .dataframe thead th {\n",
              "        text-align: right;\n",
              "    }\n",
              "</style>\n",
              "<table border=\"1\" class=\"dataframe\">\n",
              "  <thead>\n",
              "    <tr style=\"text-align: right;\">\n",
              "      <th></th>\n",
              "      <th>text</th>\n",
              "      <th>lang</th>\n",
              "      <th>claim</th>\n",
              "    </tr>\n",
              "  </thead>\n",
              "  <tbody>\n",
              "    <tr>\n",
              "      <th>0</th>\n",
              "      <td>Il a des chiffres de contagion, des chiffres ...</td>\n",
              "      <td>fr</td>\n",
              "      <td>1</td>\n",
              "    </tr>\n",
              "    <tr>\n",
              "      <th>1</th>\n",
              "      <td>Des choses très importantes ont été faites.</td>\n",
              "      <td>fr</td>\n",
              "      <td>0</td>\n",
              "    </tr>\n",
              "    <tr>\n",
              "      <th>2</th>\n",
              "      <td>Creo que que pueda haber manifestaciones crít...</td>\n",
              "      <td>es</td>\n",
              "      <td>0</td>\n",
              "    </tr>\n",
              "    <tr>\n",
              "      <th>3</th>\n",
              "      <td>Por tanto, a quien no le guste Pedro Sánchez ...</td>\n",
              "      <td>es</td>\n",
              "      <td>0</td>\n",
              "    </tr>\n",
              "    <tr>\n",
              "      <th>4</th>\n",
              "      <td>Pour moi, c’est toujours un honneur de venir ...</td>\n",
              "      <td>fr</td>\n",
              "      <td>0</td>\n",
              "    </tr>\n",
              "    <tr>\n",
              "      <th>...</th>\n",
              "      <td>...</td>\n",
              "      <td>...</td>\n",
              "      <td>...</td>\n",
              "    </tr>\n",
              "    <tr>\n",
              "      <th>33273</th>\n",
              "      <td>Because there's an administration in the Xunt...</td>\n",
              "      <td>en</td>\n",
              "      <td>0</td>\n",
              "    </tr>\n",
              "    <tr>\n",
              "      <th>33274</th>\n",
              "      <td>Usted es el secretario de Comunicación del Pa...</td>\n",
              "      <td>es</td>\n",
              "      <td>0</td>\n",
              "    </tr>\n",
              "    <tr>\n",
              "      <th>33275</th>\n",
              "      <td>También innovando porque hemos visto desde es...</td>\n",
              "      <td>es</td>\n",
              "      <td>0</td>\n",
              "    </tr>\n",
              "    <tr>\n",
              "      <th>33276</th>\n",
              "      <td>No se trata de una cosa juzgada que no pueda ...</td>\n",
              "      <td>es</td>\n",
              "      <td>0</td>\n",
              "    </tr>\n",
              "    <tr>\n",
              "      <th>33277</th>\n",
              "      <td>Cela nous semble sérieux que les causes qui e...</td>\n",
              "      <td>fr</td>\n",
              "      <td>0</td>\n",
              "    </tr>\n",
              "  </tbody>\n",
              "</table>\n",
              "<p>33278 rows × 3 columns</p>\n",
              "</div>"
            ],
            "text/plain": [
              "                                                    text lang claim\n",
              "0       Il a des chiffres de contagion, des chiffres ...   fr     1\n",
              "1            Des choses très importantes ont été faites.   fr     0\n",
              "2       Creo que que pueda haber manifestaciones crít...   es     0\n",
              "3       Por tanto, a quien no le guste Pedro Sánchez ...   es     0\n",
              "4       Pour moi, c’est toujours un honneur de venir ...   fr     0\n",
              "...                                                  ...  ...   ...\n",
              "33273   Because there's an administration in the Xunt...   en     0\n",
              "33274   Usted es el secretario de Comunicación del Pa...   es     0\n",
              "33275   También innovando porque hemos visto desde es...   es     0\n",
              "33276   No se trata de una cosa juzgada que no pueda ...   es     0\n",
              "33277   Cela nous semble sérieux que les causes qui e...   fr     0\n",
              "\n",
              "[33278 rows x 3 columns]"
            ]
          },
          "metadata": {
            "tags": []
          },
          "execution_count": 28
        }
      ]
    },
    {
      "cell_type": "markdown",
      "metadata": {
        "id": "1cTWDdF3hz4I"
      },
      "source": [
        "## Define and Train model 1: Multilingual BERT for Sequence Classification fine-tuning"
      ]
    },
    {
      "cell_type": "code",
      "metadata": {
        "id": "kbDU50HjDsSs",
        "colab": {
          "base_uri": "https://localhost:8080/"
        },
        "outputId": "26406a13-474a-4986-eba7-f29893a1566c"
      },
      "source": [
        "from transformers import BertTokenizer, BertForSequenceClassification, AdamW, get_linear_schedule_with_warmup\n",
        "from torch.utils.data import TensorDataset, DataLoader, RandomSampler, SequentialSampler, ConcatDataset\n",
        "device = torch.device(\"cuda\")\n",
        "print(f\"GPU used: {torch.cuda.get_device_name(0)}\")"
      ],
      "execution_count": null,
      "outputs": [
        {
          "output_type": "stream",
          "text": [
            "GPU used: Tesla T4\n"
          ],
          "name": "stdout"
        }
      ]
    },
    {
      "cell_type": "markdown",
      "metadata": {
        "id": "KDCx3Fh1mlKK"
      },
      "source": [
        "### Reformat input data for model specific requirements:\n",
        "\n",
        "\n",
        "1.   Tokenize (WordPiece for BERT family) sentences and add special tokens \\\"[CLS]\\\" and \\\"[SEP]\\\"\n",
        "2.   Parse input for determing the maximum length of out dataset and **truncate** or **pad** if necessary (maximum sequence length for BERT models is 512 tokens).\n",
        "3. Map each token to its unique integer-id of pre-defined BERT vocabulary and generate its corresponding **attention masks** to discriminate between normal and padding tokens.\n",
        "\n"
      ]
    },
    {
      "cell_type": "code",
      "metadata": {
        "id": "ALGTR_9mpapl"
      },
      "source": [
        "# Define tokenizer module based on the config of the pre-trained masked LM we are going to use: `bert-base-multilingual-cased`\n",
        "tokenizer = BertTokenizer.from_pretrained('bert-base-multilingual-cased')"
      ],
      "execution_count": null,
      "outputs": []
    },
    {
      "cell_type": "code",
      "metadata": {
        "id": "O2rhSMHRDs9t",
        "colab": {
          "base_uri": "https://localhost:8080/",
          "height": 51
        },
        "outputId": "cbf4c27a-a5b7-476d-d2ea-30fcf90f213c"
      },
      "source": [
        "sentences_length = [len(tokenizer.encode(sent, add_special_tokens=True)) for sent in claims_df_multi['text'].values.tolist()]\n",
        "max_len = max(sentences_length)\n",
        "print(f\"Maximum length in claims verification dataset: {max_len}\")\n",
        "truncate = int(np.mean(sentences_length)  + 2* np.std(sentences_length))\n",
        "print(f\"Truncate at: {truncate}\")"
      ],
      "execution_count": null,
      "outputs": [
        {
          "output_type": "stream",
          "text": [
            "Maximum length in claims verification dataset: 342\n",
            "Truncate at: 65\n"
          ],
          "name": "stdout"
        }
      ]
    },
    {
      "cell_type": "code",
      "metadata": {
        "id": "iSWoPFOGrQ1H"
      },
      "source": [
        "def extract_bert_features(sentences: list = [], labels: list = []) -> TensorDataset:\n",
        "  \"\"\" Input list of sentences and list of labels and extract required features for BERT model.\n",
        "      The process will:\n",
        "        1. Tokenize with model's specific tokenizer (in case of BERT, WordPiece)\n",
        "        2. Pad short sequences and truncate long sequences to defined maximum sequence length.\n",
        "        3. Map tokens to its corresponding unique ID and genenrate attention masks.\n",
        "        4. Suit all of these to pytorch TensorDataset data type for convenience.\n",
        "  \"\"\"\n",
        "  input_ids = []\n",
        "  attention_masks = []\n",
        "\n",
        "  for i, sent in enumerate(sentences):\n",
        "    # Map ids and get attention masks\n",
        "    tokenized_sentence = tokenizer.encode_plus(sent, \n",
        "                                              add_special_tokens=True,  \n",
        "                                              padding='max_length', \n",
        "                                              truncation=True,\n",
        "                                              max_length=truncate,\n",
        "                                              return_attention_mask=True, \n",
        "                                              return_tensors='pt')\n",
        "    input_ids.append(tokenized_sentence['input_ids'])\n",
        "    attention_masks.append(tokenized_sentence['attention_mask'])\n",
        "    \n",
        "  # Convert list and np.ndarray to torch.Tensor datatype\n",
        "  input_ids = torch.cat(input_ids, dim=0)\n",
        "  attention_masks = torch.cat(attention_masks, dim=0)\n",
        "  labels = torch.tensor(labels)\n",
        "  # Construct a dataset of pytorch tensors\n",
        "  return TensorDataset(input_ids, attention_masks, labels)\n"
      ],
      "execution_count": null,
      "outputs": []
    },
    {
      "cell_type": "code",
      "metadata": {
        "id": "rbGSPGt1ve0M"
      },
      "source": [
        "trainset = extract_bert_features(sentences=train_text['text'].values.tolist(), labels=train_text['claim'].values.tolist())\n",
        "valset = extract_bert_features(sentences=val_text['text'].values.tolist(), labels=val_text['claim'].values.tolist())\n",
        "testset = extract_bert_features(sentences=test_text['text'].values.tolist(), labels=test_text['claim'].values.tolist())"
      ],
      "execution_count": null,
      "outputs": []
    },
    {
      "cell_type": "markdown",
      "metadata": {
        "id": "3ppkX9nc7SwH"
      },
      "source": [
        "### Hyperparameter selection from authors' recommendation in the appendix of the original [paper](https://https://arxiv.org/pdf/1810.04805.pdf) `Fine-tuning Procedure`:\n",
        "\n",
        "\n",
        "* Batch size: 16, 32\n",
        "* Learning rate (Adam): 5e-5, 3e-5, 2e-5\n",
        "* Number of epochs: 2, 3, 4\n",
        "\n"
      ]
    },
    {
      "cell_type": "code",
      "metadata": {
        "id": "FIaKMCLG7t7P"
      },
      "source": [
        "batch_size = 32\n",
        "lr = 2e-5\n",
        "epochs = 4"
      ],
      "execution_count": null,
      "outputs": []
    },
    {
      "cell_type": "code",
      "metadata": {
        "id": "4cCGiyc_60nQ"
      },
      "source": [
        "# Define an iterator for efficiently streaming batches of data for training the model\n",
        "train_generator = DataLoader(dataset=trainset, \n",
        "                             batch_size=batch_size, \n",
        "                             sampler = RandomSampler(trainset))\n",
        "val_generator = DataLoader(dataset=valset, \n",
        "                           batch_size=batch_size, \n",
        "                           sampler = RandomSampler(valset))"
      ],
      "execution_count": null,
      "outputs": []
    },
    {
      "cell_type": "code",
      "metadata": {
        "id": "wsWOAvMxRKAg"
      },
      "source": [
        "class BertTrainValidateTest:\n",
        "  \"\"\" This is a class intended to unify and make easier the whole process of model\n",
        "      definition and calls to different methods of fit and evaluation.\n",
        "      It also implements diferent methods for computing performance metrics, \n",
        "      the training loop (with validation if specified) and inference mode for\n",
        "      obtaining predictions from text inputs.\n",
        "  \"\"\"\n",
        "\n",
        "  def __init__(self, \n",
        "               batch_size: int = 32, \n",
        "               learning_rate: float = 5e-5, \n",
        "               epochs: int = 1):\n",
        "    self.model = None\n",
        "    self.batch_size = batch_size\n",
        "    self.lr = learning_rate\n",
        "    self.epochs = epochs\n",
        "  \n",
        "  def load_pretrained_model(self, \n",
        "                            model_class, \n",
        "                            model_name, \n",
        "                            num_labels: int = 2, \n",
        "                            output_attentions: bool = False, \n",
        "                            output_hidden_states: bool = False, \n",
        "                            fine_tune: str = 'all'):\n",
        "    \"\"\"Load pre-trained model\n",
        "    \"\"\"\n",
        "    self.model = model_class.from_pretrained(model_name, \n",
        "                                            num_labels = num_labels,  \n",
        "                                            output_attentions = output_attentions, \n",
        "                                            output_hidden_states = output_hidden_states)\n",
        "    if fine_tune == 'head':\n",
        "      for name, param in self.model.named_parameters():\n",
        "        if 'classifier' not in name:\n",
        "          param.requires_grad = False\n",
        "    \n",
        "    self.model.to(device)\n",
        "    print(self.model)\n",
        "    return self\n",
        "\n",
        "  @staticmethod\n",
        "  def compute_metrics(preds, \n",
        "                      labels):\n",
        "    \"\"\" Monitorization of model's quality performance: \n",
        "        - Precision: FP/(FP+TP)\n",
        "        - Recall: FN/(FN+TP)\n",
        "        - F1-Score: 2*(Precision*Recall)/(Precision+Recall)\n",
        "    \"\"\"\n",
        "    precision, recall, f1, _ = precision_recall_fscore_support(labels, preds, average='micro')\n",
        "    return {\n",
        "        'f1': f1,\n",
        "        'precision': precision,\n",
        "        'recall': recall\n",
        "    }\n",
        "\n",
        "  @staticmethod\n",
        "  def compute_accuracy(preds, \n",
        "                       labels):\n",
        "    \"\"\" Ratio of number of correct predicted samples and the total of samples predicted\n",
        "    \"\"\"\n",
        "    return np.sum(preds == labels) / len(labels)\n",
        "\n",
        "  @staticmethod\n",
        "  def compute_time(elapsed):\n",
        "    \"\"\" Monitorization of model's time performance\n",
        "    \"\"\"\n",
        "    # Time in seconds\n",
        "    elapsed_rounded = int(round((elapsed)))\n",
        "    # Format as hh:mm:ss\n",
        "    return str(datetime.timedelta(seconds=elapsed_rounded))\n",
        "\n",
        "  def train(self, \n",
        "            train_generator, \n",
        "            val_generator):\n",
        "    \"\"\" Training loop\n",
        "    \"\"\"\n",
        "    # Initialize variable for saving training history\n",
        "    training_stats = []\n",
        "\n",
        "    # Measure the total training time for the whole run.\n",
        "    total_t0 = time.time()\n",
        "\n",
        "    # Define optimizer: AdamW stands for Adam with Weight Decay\n",
        "    optimizer = AdamW(self.model.parameters(), lr = self.lr)\n",
        "    # Create the learning rate scheduler.\n",
        "    scheduler = get_linear_schedule_with_warmup(optimizer, \n",
        "                                                num_warmup_steps = 0, \n",
        "                                                num_training_steps = len(train_generator) * self.epochs)\n",
        "\n",
        "    for epoch_i in range(self.epochs):\n",
        "      # ---------- TRAINING -------------\n",
        "      print('\\n-> Epoch {:} / {:}'.format(epoch_i + 1, self.epochs))\n",
        "      print('Training...')\n",
        "      # Measure how long the training epoch takes.\n",
        "      t0 = time.time()\n",
        "      # Reset the total loss for this epoch.\n",
        "      total_train_loss = 0\n",
        "      # Put the model into training mode. \n",
        "      self.model.train()\n",
        "\n",
        "      for step, batch in enumerate(train_generator):\n",
        "          # Report progress\n",
        "          if step % 100 == 0 and not step == 0:\n",
        "              # Calculate elapsed time in minutes.\n",
        "              elapsed = self.compute_time(time.time() - t0)\n",
        "              print('  Batch {:>5,}  of  {:>5,}.    Elapsed: {:}.'.format(step, len(train_generator), elapsed))\n",
        "          # Unpack batch data and allocate to selected device\n",
        "          input_ids_batch = batch[0].to(device)\n",
        "          input_mask_batch = batch[1].to(device)\n",
        "          labels_batch = batch[2].to(device)\n",
        "          # Clear gradients before forward pass (this is done by default, and useful for RNNs)\n",
        "          self.model.zero_grad()        \n",
        "          # Forward pass\n",
        "          loss, logits = self.model(input_ids_batch, \n",
        "                                    token_type_ids=None, # For QA or NSP \n",
        "                                    attention_mask=input_mask_batch, \n",
        "                                    labels=labels_batch)\n",
        "          # Update loss value\n",
        "          total_train_loss += loss.item()\n",
        "          # Backward pass\n",
        "          loss.backward()\n",
        "          # Prevent the exploding gradient problem.\n",
        "          torch.nn.utils.clip_grad_norm_(self.model.parameters(), 1.0)\n",
        "          # Weights update \n",
        "          optimizer.step()\n",
        "          # Learning Rate update\n",
        "          scheduler.step()\n",
        "\n",
        "      # Loss across the whole batches conforming the epoch\n",
        "      avg_train_loss = total_train_loss / len(train_generator)            \n",
        "      # Check training_time/epoch\n",
        "      training_time = self.compute_time(time.time() - t0)\n",
        "\n",
        "      print(\"  \\nAverage training loss: {0:.2f}\".format(avg_train_loss))\n",
        "      print(f\"  Training epcoh took: {training_time}\")\n",
        "\n",
        "      if val_generator:\n",
        "        # ---------- VALIDATION -------------\n",
        "        avg_val_loss, avg_val_accuracy, val_performance, validation_time = self.validate(val_generator=val_generator,\n",
        "                                                                                         training_stats=training_stats,\n",
        "                                                                                         epoch_i=epoch_i)\n",
        "\n",
        "        # Record all statistics from this epoch.\n",
        "        training_stats.append(\n",
        "            {\n",
        "                'epoch': epoch_i + 1,\n",
        "                'Training Loss': avg_train_loss,\n",
        "                'Valid. Loss': avg_val_loss,\n",
        "                'Valid. Acc': avg_val_accuracy,\n",
        "                'Valid. F1': val_performance['f1'],\n",
        "                'Valid. Precision': val_performance['precision'],\n",
        "                'Valid. Recall': val_performance['recall'],\n",
        "                'Training Time': training_time,\n",
        "                'Validation Time': validation_time\n",
        "            }\n",
        "        )\n",
        "      else:\n",
        "        # Record all statistics from this epoch.\n",
        "        training_stats.append(\n",
        "            {\n",
        "                'epoch': epoch_i + 1,\n",
        "                'Training Loss': avg_train_loss,\n",
        "                'Valid. Loss': None,\n",
        "                'Valid. Acc': None,\n",
        "                'Valid. F1': None,\n",
        "                'Valid. Precision': None,\n",
        "                'Valid. Recall': None,\n",
        "                'Training Time': training_time,\n",
        "                'Validation Time': None\n",
        "            }\n",
        "        )\n",
        "    return self.model, training_stats\n",
        "\n",
        "  def validate(self, \n",
        "               val_generator,\n",
        "               training_stats, \n",
        "               epoch_i):\n",
        "    \"\"\" Validation assessment for preventing overfitting\n",
        "    \"\"\"\n",
        "    # ---------- VALIDATION -------------\n",
        "    print(\"\\nRunning Validation...\")\n",
        "    t0 = time.time()\n",
        "    # Put the model in evaluation mode\n",
        "    self.model.eval()\n",
        "    # Tracking variables \n",
        "    total_eval_accuracy = 0\n",
        "    total_eval_loss = 0\n",
        "    nb_eval_steps = 0\n",
        "    total_logits = []\n",
        "    total_label_ids = []\n",
        "    # Evaluate data for one epoch\n",
        "    for batch in val_generator:\n",
        "        # Unpack batch data and allocate to selected device\n",
        "        input_ids_batch = batch[0].to(device)\n",
        "        input_mask_batch = batch[1].to(device)\n",
        "        labels_batch = batch[2].to(device)\n",
        "        # No gradient calculation needed. Only forward pass through last updated\n",
        "        # weights for passing validation data and assess overfitting\n",
        "        with torch.no_grad():        \n",
        "            # Forward pass\n",
        "            loss, logits = self.model(input_ids_batch, \n",
        "                                      token_type_ids=None, # For QA or NSP\n",
        "                                      attention_mask=input_mask_batch, \n",
        "                                      labels=labels_batch)\n",
        "        # Update loss value\n",
        "        total_eval_loss += loss.item()\n",
        "        # Move logits and labels to CPU\n",
        "        logits = logits.detach().cpu().numpy()\n",
        "        logits = np.argmax(logits, axis=1).flatten()\n",
        "        label_ids = labels_batch.to('cpu').numpy()\n",
        "        label_ids = label_ids.flatten()\n",
        "        # Save results for later performance assessment\n",
        "        total_logits.append(logits)\n",
        "        total_label_ids.append(label_ids)\n",
        "        # Update accuracy value\n",
        "        total_eval_accuracy += self.compute_accuracy(logits, label_ids)\n",
        "    \n",
        "    # Accuracy across the whole batches conforming the epoch\n",
        "    avg_val_accuracy = total_eval_accuracy / len(val_generator)\n",
        "    # Evaluate validation dataset results\n",
        "    val_performance = self.compute_metrics(total_logits, total_label_ids)\n",
        "    print(f\"Val_acc: {avg_val_accuracy}, Val_F1: {val_performance['f1']}, Val_precision: {val_performance['precision']}, Val_recall: {val_performance['recall']}\")\n",
        "    # Loss across the whole batches conforming the epoch\n",
        "    avg_val_loss = total_eval_loss / len(val_generator)\n",
        "    # Model checkpoint: save best model\n",
        "    if epoch_i == 0:\n",
        "      torch.save(self.model, 'drive/My Drive/Colab Notebooks/best-model.pt')\n",
        "      torch.save(self.model.state_dict(), \n",
        "                  'drive/My Drive/Colab Notebooks/best-model-parameters.pt')\n",
        "      print(\"Model chekpoint: save best-model in drive/My Drive/Colab Notebooks/\")\n",
        "    else:\n",
        "      if training_stats[epoch_i - 1]['Valid. Loss'] > avg_val_loss:\n",
        "        torch.save(self.model, 'drive/My Drive/Colab Notebooks/best-model.pt')\n",
        "        torch.save(self.model.state_dict(), \n",
        "                  'drive/My Drive/Colab Notebooks/best-model-parameters.pt')\n",
        "        print(\"Model chekpoint: save best-model in drive/My Drive/Colab Notebooks/\")\n",
        "      else:\n",
        "        print(\"Validation loss did not improve\")\n",
        "    # Check validation_time/epoch\n",
        "    validation_time = self.compute_time(time.time() - t0)\n",
        "    \n",
        "    print(\"  Validation Loss: {0:.2f}\".format(avg_val_loss))\n",
        "    print(f\"  Validation took: {validation_time}\")\n",
        "\n",
        "    return avg_val_loss, avg_val_accuracy, val_performance, validation_time\n",
        "\n",
        "  def test(self, \n",
        "           test_generator):\n",
        "    \"\"\" Inference over test samples for evaluating model's performance\n",
        "    \"\"\"\n",
        "    # ---------- TEST -------------\n",
        "    print(\"\\nPredicting unseen samples...\")\n",
        "    t0 = time.time()\n",
        "    # Put model in evaluation mode\n",
        "    self.model.eval()\n",
        "    # Tracking variables \n",
        "    total_test_accuracy = 0\n",
        "    predictions , true_labels = [], []\n",
        "\n",
        "    for batch in test_generator:\n",
        "      # Unpack batch data and allocate to selected device\n",
        "      input_ids_batch = batch[0].to(device)\n",
        "      input_mask_batch = batch[1].to(device)\n",
        "      labels_batch = batch[2].to(device)     \n",
        "      # No gradient calculation needed. Only forward pass through last updated\n",
        "      # weights for passing test samples to evaluate model performance\n",
        "      with torch.no_grad():        \n",
        "          # Forward pass\n",
        "          outputs = self.model(input_ids_batch, \n",
        "                                token_type_ids=None, # For QA or NSP\n",
        "                                attention_mask=input_mask_batch, \n",
        "                                labels=None)\n",
        "      logits = outputs[0]\n",
        "      # Move logits and labels to CPU\n",
        "      logits = logits.detach().cpu().numpy()\n",
        "      logits = np.argmax(logits, axis=1).flatten()\n",
        "      label_ids = labels_batch.to('cpu').numpy()  \n",
        "      label_ids = label_ids.flatten()\n",
        "      # Update accuracy value\n",
        "      total_test_accuracy += self.compute_accuracy(logits, label_ids) \n",
        "      # Store predictions and true labels\n",
        "      predictions.append(logits)\n",
        "      true_labels.append(label_ids)\n",
        "\n",
        "    # Accuracy across the whole batches conforming the epoch\n",
        "    avg_test_accuracy = total_test_accuracy / len(test_generator)\n",
        "    # Evaluate validation dataset results\n",
        "    test_performance = self.compute_metrics(predictions, true_labels)\n",
        "    print(f\"Test_acc: {avg_test_accuracy}, Test_F1: {test_performance['f1']}, Test_precision: {test_performance['precision']}, Test_recall: {test_performance['recall']}\")\n",
        "    # Check validation_time/epoch\n",
        "    test_time = self.compute_time(time.time() - t0)\n",
        "    print(f\"  Test took: {test_time}\")\n",
        "\n",
        "    return predictions, true_labels"
      ],
      "execution_count": null,
      "outputs": []
    },
    {
      "cell_type": "code",
      "metadata": {
        "id": "xb16BNXmWb5I",
        "colab": {
          "base_uri": "https://localhost:8080/",
          "height": 1000
        },
        "outputId": "969f4672-7424-4037-c4b0-88b4d1ab018b"
      },
      "source": [
        "# Instantiate BertTrainValidateTest class for helping us with the construction of the model and its evaluation\n",
        "bert_clf = BertTrainValidateTest(batch_size=batch_size, \n",
        "                                 learning_rate=lr, \n",
        "                                 epochs=epochs)\n",
        "# Load pre-trained model for fine-tuning it\n",
        "model = bert_clf.load_pretrained_model(model_class=BertForSequenceClassification,  \n",
        "                                       model_name=\"bert-base-multilingual-cased\", \n",
        "                                       num_labels=2, \n",
        "                                       output_attentions=False, \n",
        "                                       output_hidden_states=False, \n",
        "                                       fine_tune='all')"
      ],
      "execution_count": null,
      "outputs": [
        {
          "output_type": "stream",
          "text": [
            "Some weights of the model checkpoint at bert-base-multilingual-cased were not used when initializing BertForSequenceClassification: ['cls.predictions.bias', 'cls.predictions.transform.dense.weight', 'cls.predictions.transform.dense.bias', 'cls.predictions.decoder.weight', 'cls.seq_relationship.weight', 'cls.seq_relationship.bias', 'cls.predictions.transform.LayerNorm.weight', 'cls.predictions.transform.LayerNorm.bias']\n",
            "- This IS expected if you are initializing BertForSequenceClassification from the checkpoint of a model trained on another task or with another architecture (e.g. initializing a BertForSequenceClassification model from a BertForPretraining model).\n",
            "- This IS NOT expected if you are initializing BertForSequenceClassification from the checkpoint of a model that you expect to be exactly identical (initializing a BertForSequenceClassification model from a BertForSequenceClassification model).\n",
            "Some weights of BertForSequenceClassification were not initialized from the model checkpoint at bert-base-multilingual-cased and are newly initialized: ['classifier.weight', 'classifier.bias']\n",
            "You should probably TRAIN this model on a down-stream task to be able to use it for predictions and inference.\n"
          ],
          "name": "stderr"
        },
        {
          "output_type": "stream",
          "text": [
            "BertForSequenceClassification(\n",
            "  (bert): BertModel(\n",
            "    (embeddings): BertEmbeddings(\n",
            "      (word_embeddings): Embedding(119547, 768, padding_idx=0)\n",
            "      (position_embeddings): Embedding(512, 768)\n",
            "      (token_type_embeddings): Embedding(2, 768)\n",
            "      (LayerNorm): LayerNorm((768,), eps=1e-12, elementwise_affine=True)\n",
            "      (dropout): Dropout(p=0.1, inplace=False)\n",
            "    )\n",
            "    (encoder): BertEncoder(\n",
            "      (layer): ModuleList(\n",
            "        (0): BertLayer(\n",
            "          (attention): BertAttention(\n",
            "            (self): BertSelfAttention(\n",
            "              (query): Linear(in_features=768, out_features=768, bias=True)\n",
            "              (key): Linear(in_features=768, out_features=768, bias=True)\n",
            "              (value): Linear(in_features=768, out_features=768, bias=True)\n",
            "              (dropout): Dropout(p=0.1, inplace=False)\n",
            "            )\n",
            "            (output): BertSelfOutput(\n",
            "              (dense): Linear(in_features=768, out_features=768, bias=True)\n",
            "              (LayerNorm): LayerNorm((768,), eps=1e-12, elementwise_affine=True)\n",
            "              (dropout): Dropout(p=0.1, inplace=False)\n",
            "            )\n",
            "          )\n",
            "          (intermediate): BertIntermediate(\n",
            "            (dense): Linear(in_features=768, out_features=3072, bias=True)\n",
            "          )\n",
            "          (output): BertOutput(\n",
            "            (dense): Linear(in_features=3072, out_features=768, bias=True)\n",
            "            (LayerNorm): LayerNorm((768,), eps=1e-12, elementwise_affine=True)\n",
            "            (dropout): Dropout(p=0.1, inplace=False)\n",
            "          )\n",
            "        )\n",
            "        (1): BertLayer(\n",
            "          (attention): BertAttention(\n",
            "            (self): BertSelfAttention(\n",
            "              (query): Linear(in_features=768, out_features=768, bias=True)\n",
            "              (key): Linear(in_features=768, out_features=768, bias=True)\n",
            "              (value): Linear(in_features=768, out_features=768, bias=True)\n",
            "              (dropout): Dropout(p=0.1, inplace=False)\n",
            "            )\n",
            "            (output): BertSelfOutput(\n",
            "              (dense): Linear(in_features=768, out_features=768, bias=True)\n",
            "              (LayerNorm): LayerNorm((768,), eps=1e-12, elementwise_affine=True)\n",
            "              (dropout): Dropout(p=0.1, inplace=False)\n",
            "            )\n",
            "          )\n",
            "          (intermediate): BertIntermediate(\n",
            "            (dense): Linear(in_features=768, out_features=3072, bias=True)\n",
            "          )\n",
            "          (output): BertOutput(\n",
            "            (dense): Linear(in_features=3072, out_features=768, bias=True)\n",
            "            (LayerNorm): LayerNorm((768,), eps=1e-12, elementwise_affine=True)\n",
            "            (dropout): Dropout(p=0.1, inplace=False)\n",
            "          )\n",
            "        )\n",
            "        (2): BertLayer(\n",
            "          (attention): BertAttention(\n",
            "            (self): BertSelfAttention(\n",
            "              (query): Linear(in_features=768, out_features=768, bias=True)\n",
            "              (key): Linear(in_features=768, out_features=768, bias=True)\n",
            "              (value): Linear(in_features=768, out_features=768, bias=True)\n",
            "              (dropout): Dropout(p=0.1, inplace=False)\n",
            "            )\n",
            "            (output): BertSelfOutput(\n",
            "              (dense): Linear(in_features=768, out_features=768, bias=True)\n",
            "              (LayerNorm): LayerNorm((768,), eps=1e-12, elementwise_affine=True)\n",
            "              (dropout): Dropout(p=0.1, inplace=False)\n",
            "            )\n",
            "          )\n",
            "          (intermediate): BertIntermediate(\n",
            "            (dense): Linear(in_features=768, out_features=3072, bias=True)\n",
            "          )\n",
            "          (output): BertOutput(\n",
            "            (dense): Linear(in_features=3072, out_features=768, bias=True)\n",
            "            (LayerNorm): LayerNorm((768,), eps=1e-12, elementwise_affine=True)\n",
            "            (dropout): Dropout(p=0.1, inplace=False)\n",
            "          )\n",
            "        )\n",
            "        (3): BertLayer(\n",
            "          (attention): BertAttention(\n",
            "            (self): BertSelfAttention(\n",
            "              (query): Linear(in_features=768, out_features=768, bias=True)\n",
            "              (key): Linear(in_features=768, out_features=768, bias=True)\n",
            "              (value): Linear(in_features=768, out_features=768, bias=True)\n",
            "              (dropout): Dropout(p=0.1, inplace=False)\n",
            "            )\n",
            "            (output): BertSelfOutput(\n",
            "              (dense): Linear(in_features=768, out_features=768, bias=True)\n",
            "              (LayerNorm): LayerNorm((768,), eps=1e-12, elementwise_affine=True)\n",
            "              (dropout): Dropout(p=0.1, inplace=False)\n",
            "            )\n",
            "          )\n",
            "          (intermediate): BertIntermediate(\n",
            "            (dense): Linear(in_features=768, out_features=3072, bias=True)\n",
            "          )\n",
            "          (output): BertOutput(\n",
            "            (dense): Linear(in_features=3072, out_features=768, bias=True)\n",
            "            (LayerNorm): LayerNorm((768,), eps=1e-12, elementwise_affine=True)\n",
            "            (dropout): Dropout(p=0.1, inplace=False)\n",
            "          )\n",
            "        )\n",
            "        (4): BertLayer(\n",
            "          (attention): BertAttention(\n",
            "            (self): BertSelfAttention(\n",
            "              (query): Linear(in_features=768, out_features=768, bias=True)\n",
            "              (key): Linear(in_features=768, out_features=768, bias=True)\n",
            "              (value): Linear(in_features=768, out_features=768, bias=True)\n",
            "              (dropout): Dropout(p=0.1, inplace=False)\n",
            "            )\n",
            "            (output): BertSelfOutput(\n",
            "              (dense): Linear(in_features=768, out_features=768, bias=True)\n",
            "              (LayerNorm): LayerNorm((768,), eps=1e-12, elementwise_affine=True)\n",
            "              (dropout): Dropout(p=0.1, inplace=False)\n",
            "            )\n",
            "          )\n",
            "          (intermediate): BertIntermediate(\n",
            "            (dense): Linear(in_features=768, out_features=3072, bias=True)\n",
            "          )\n",
            "          (output): BertOutput(\n",
            "            (dense): Linear(in_features=3072, out_features=768, bias=True)\n",
            "            (LayerNorm): LayerNorm((768,), eps=1e-12, elementwise_affine=True)\n",
            "            (dropout): Dropout(p=0.1, inplace=False)\n",
            "          )\n",
            "        )\n",
            "        (5): BertLayer(\n",
            "          (attention): BertAttention(\n",
            "            (self): BertSelfAttention(\n",
            "              (query): Linear(in_features=768, out_features=768, bias=True)\n",
            "              (key): Linear(in_features=768, out_features=768, bias=True)\n",
            "              (value): Linear(in_features=768, out_features=768, bias=True)\n",
            "              (dropout): Dropout(p=0.1, inplace=False)\n",
            "            )\n",
            "            (output): BertSelfOutput(\n",
            "              (dense): Linear(in_features=768, out_features=768, bias=True)\n",
            "              (LayerNorm): LayerNorm((768,), eps=1e-12, elementwise_affine=True)\n",
            "              (dropout): Dropout(p=0.1, inplace=False)\n",
            "            )\n",
            "          )\n",
            "          (intermediate): BertIntermediate(\n",
            "            (dense): Linear(in_features=768, out_features=3072, bias=True)\n",
            "          )\n",
            "          (output): BertOutput(\n",
            "            (dense): Linear(in_features=3072, out_features=768, bias=True)\n",
            "            (LayerNorm): LayerNorm((768,), eps=1e-12, elementwise_affine=True)\n",
            "            (dropout): Dropout(p=0.1, inplace=False)\n",
            "          )\n",
            "        )\n",
            "        (6): BertLayer(\n",
            "          (attention): BertAttention(\n",
            "            (self): BertSelfAttention(\n",
            "              (query): Linear(in_features=768, out_features=768, bias=True)\n",
            "              (key): Linear(in_features=768, out_features=768, bias=True)\n",
            "              (value): Linear(in_features=768, out_features=768, bias=True)\n",
            "              (dropout): Dropout(p=0.1, inplace=False)\n",
            "            )\n",
            "            (output): BertSelfOutput(\n",
            "              (dense): Linear(in_features=768, out_features=768, bias=True)\n",
            "              (LayerNorm): LayerNorm((768,), eps=1e-12, elementwise_affine=True)\n",
            "              (dropout): Dropout(p=0.1, inplace=False)\n",
            "            )\n",
            "          )\n",
            "          (intermediate): BertIntermediate(\n",
            "            (dense): Linear(in_features=768, out_features=3072, bias=True)\n",
            "          )\n",
            "          (output): BertOutput(\n",
            "            (dense): Linear(in_features=3072, out_features=768, bias=True)\n",
            "            (LayerNorm): LayerNorm((768,), eps=1e-12, elementwise_affine=True)\n",
            "            (dropout): Dropout(p=0.1, inplace=False)\n",
            "          )\n",
            "        )\n",
            "        (7): BertLayer(\n",
            "          (attention): BertAttention(\n",
            "            (self): BertSelfAttention(\n",
            "              (query): Linear(in_features=768, out_features=768, bias=True)\n",
            "              (key): Linear(in_features=768, out_features=768, bias=True)\n",
            "              (value): Linear(in_features=768, out_features=768, bias=True)\n",
            "              (dropout): Dropout(p=0.1, inplace=False)\n",
            "            )\n",
            "            (output): BertSelfOutput(\n",
            "              (dense): Linear(in_features=768, out_features=768, bias=True)\n",
            "              (LayerNorm): LayerNorm((768,), eps=1e-12, elementwise_affine=True)\n",
            "              (dropout): Dropout(p=0.1, inplace=False)\n",
            "            )\n",
            "          )\n",
            "          (intermediate): BertIntermediate(\n",
            "            (dense): Linear(in_features=768, out_features=3072, bias=True)\n",
            "          )\n",
            "          (output): BertOutput(\n",
            "            (dense): Linear(in_features=3072, out_features=768, bias=True)\n",
            "            (LayerNorm): LayerNorm((768,), eps=1e-12, elementwise_affine=True)\n",
            "            (dropout): Dropout(p=0.1, inplace=False)\n",
            "          )\n",
            "        )\n",
            "        (8): BertLayer(\n",
            "          (attention): BertAttention(\n",
            "            (self): BertSelfAttention(\n",
            "              (query): Linear(in_features=768, out_features=768, bias=True)\n",
            "              (key): Linear(in_features=768, out_features=768, bias=True)\n",
            "              (value): Linear(in_features=768, out_features=768, bias=True)\n",
            "              (dropout): Dropout(p=0.1, inplace=False)\n",
            "            )\n",
            "            (output): BertSelfOutput(\n",
            "              (dense): Linear(in_features=768, out_features=768, bias=True)\n",
            "              (LayerNorm): LayerNorm((768,), eps=1e-12, elementwise_affine=True)\n",
            "              (dropout): Dropout(p=0.1, inplace=False)\n",
            "            )\n",
            "          )\n",
            "          (intermediate): BertIntermediate(\n",
            "            (dense): Linear(in_features=768, out_features=3072, bias=True)\n",
            "          )\n",
            "          (output): BertOutput(\n",
            "            (dense): Linear(in_features=3072, out_features=768, bias=True)\n",
            "            (LayerNorm): LayerNorm((768,), eps=1e-12, elementwise_affine=True)\n",
            "            (dropout): Dropout(p=0.1, inplace=False)\n",
            "          )\n",
            "        )\n",
            "        (9): BertLayer(\n",
            "          (attention): BertAttention(\n",
            "            (self): BertSelfAttention(\n",
            "              (query): Linear(in_features=768, out_features=768, bias=True)\n",
            "              (key): Linear(in_features=768, out_features=768, bias=True)\n",
            "              (value): Linear(in_features=768, out_features=768, bias=True)\n",
            "              (dropout): Dropout(p=0.1, inplace=False)\n",
            "            )\n",
            "            (output): BertSelfOutput(\n",
            "              (dense): Linear(in_features=768, out_features=768, bias=True)\n",
            "              (LayerNorm): LayerNorm((768,), eps=1e-12, elementwise_affine=True)\n",
            "              (dropout): Dropout(p=0.1, inplace=False)\n",
            "            )\n",
            "          )\n",
            "          (intermediate): BertIntermediate(\n",
            "            (dense): Linear(in_features=768, out_features=3072, bias=True)\n",
            "          )\n",
            "          (output): BertOutput(\n",
            "            (dense): Linear(in_features=3072, out_features=768, bias=True)\n",
            "            (LayerNorm): LayerNorm((768,), eps=1e-12, elementwise_affine=True)\n",
            "            (dropout): Dropout(p=0.1, inplace=False)\n",
            "          )\n",
            "        )\n",
            "        (10): BertLayer(\n",
            "          (attention): BertAttention(\n",
            "            (self): BertSelfAttention(\n",
            "              (query): Linear(in_features=768, out_features=768, bias=True)\n",
            "              (key): Linear(in_features=768, out_features=768, bias=True)\n",
            "              (value): Linear(in_features=768, out_features=768, bias=True)\n",
            "              (dropout): Dropout(p=0.1, inplace=False)\n",
            "            )\n",
            "            (output): BertSelfOutput(\n",
            "              (dense): Linear(in_features=768, out_features=768, bias=True)\n",
            "              (LayerNorm): LayerNorm((768,), eps=1e-12, elementwise_affine=True)\n",
            "              (dropout): Dropout(p=0.1, inplace=False)\n",
            "            )\n",
            "          )\n",
            "          (intermediate): BertIntermediate(\n",
            "            (dense): Linear(in_features=768, out_features=3072, bias=True)\n",
            "          )\n",
            "          (output): BertOutput(\n",
            "            (dense): Linear(in_features=3072, out_features=768, bias=True)\n",
            "            (LayerNorm): LayerNorm((768,), eps=1e-12, elementwise_affine=True)\n",
            "            (dropout): Dropout(p=0.1, inplace=False)\n",
            "          )\n",
            "        )\n",
            "        (11): BertLayer(\n",
            "          (attention): BertAttention(\n",
            "            (self): BertSelfAttention(\n",
            "              (query): Linear(in_features=768, out_features=768, bias=True)\n",
            "              (key): Linear(in_features=768, out_features=768, bias=True)\n",
            "              (value): Linear(in_features=768, out_features=768, bias=True)\n",
            "              (dropout): Dropout(p=0.1, inplace=False)\n",
            "            )\n",
            "            (output): BertSelfOutput(\n",
            "              (dense): Linear(in_features=768, out_features=768, bias=True)\n",
            "              (LayerNorm): LayerNorm((768,), eps=1e-12, elementwise_affine=True)\n",
            "              (dropout): Dropout(p=0.1, inplace=False)\n",
            "            )\n",
            "          )\n",
            "          (intermediate): BertIntermediate(\n",
            "            (dense): Linear(in_features=768, out_features=3072, bias=True)\n",
            "          )\n",
            "          (output): BertOutput(\n",
            "            (dense): Linear(in_features=3072, out_features=768, bias=True)\n",
            "            (LayerNorm): LayerNorm((768,), eps=1e-12, elementwise_affine=True)\n",
            "            (dropout): Dropout(p=0.1, inplace=False)\n",
            "          )\n",
            "        )\n",
            "      )\n",
            "    )\n",
            "    (pooler): BertPooler(\n",
            "      (dense): Linear(in_features=768, out_features=768, bias=True)\n",
            "      (activation): Tanh()\n",
            "    )\n",
            "  )\n",
            "  (dropout): Dropout(p=0.1, inplace=False)\n",
            "  (classifier): Linear(in_features=768, out_features=2, bias=True)\n",
            ")\n"
          ],
          "name": "stdout"
        }
      ]
    },
    {
      "cell_type": "code",
      "metadata": {
        "id": "8CyWx0kzW1qE"
      },
      "source": [
        "# Fix seed value for reproducible results\n",
        "seed_val = 42\n",
        "random.seed(seed_val)\n",
        "np.random.seed(seed_val)\n",
        "torch.manual_seed(seed_val)\n",
        "torch.cuda.manual_seed_all(seed_val)"
      ],
      "execution_count": null,
      "outputs": []
    },
    {
      "cell_type": "code",
      "metadata": {
        "id": "sT_hdUvgXFoj",
        "colab": {
          "base_uri": "https://localhost:8080/",
          "height": 1000
        },
        "outputId": "d16ec659-e9e1-431a-bde4-29d4ab4dc8eb"
      },
      "source": [
        "model, training_stats = bert_clf.train(train_generator=train_generator, \n",
        "                                       val_generator=val_generator)"
      ],
      "execution_count": null,
      "outputs": [
        {
          "output_type": "stream",
          "text": [
            "\n",
            "-> Epoch 1 / 4\n",
            "Training...\n",
            "  Batch   100  of  1,040.    Elapsed: 0:01:17.\n",
            "  Batch   200  of  1,040.    Elapsed: 0:02:33.\n",
            "  Batch   300  of  1,040.    Elapsed: 0:03:49.\n",
            "  Batch   400  of  1,040.    Elapsed: 0:05:06.\n",
            "  Batch   500  of  1,040.    Elapsed: 0:06:22.\n",
            "  Batch   600  of  1,040.    Elapsed: 0:07:38.\n",
            "  Batch   700  of  1,040.    Elapsed: 0:08:54.\n",
            "  Batch   800  of  1,040.    Elapsed: 0:10:10.\n",
            "  Batch   900  of  1,040.    Elapsed: 0:11:27.\n",
            "  Batch 1,000  of  1,040.    Elapsed: 0:12:43.\n",
            "  \n",
            "Average training loss: 0.16\n",
            "  Training epcoh took: 0:13:13\n",
            "\n",
            "Running Validation...\n",
            "Val_acc: 0.9514423076923076, Val_F1: 0.6217228464419475, Val_precision: 0.7063829787234043, Val_recall: 0.5551839464882943\n",
            "Model chekpoint: save best-model in drive/My Drive/Colab Notebooks/\n",
            "  Validation Loss: 0.12\n",
            "  Validation took: 0:00:43\n",
            "\n",
            "-> Epoch 2 / 4\n",
            "Training...\n",
            "  Batch   100  of  1,040.    Elapsed: 0:01:16.\n",
            "  Batch   200  of  1,040.    Elapsed: 0:02:32.\n",
            "  Batch   300  of  1,040.    Elapsed: 0:03:48.\n",
            "  Batch   400  of  1,040.    Elapsed: 0:05:04.\n",
            "  Batch   500  of  1,040.    Elapsed: 0:06:20.\n",
            "  Batch   600  of  1,040.    Elapsed: 0:07:37.\n",
            "  Batch   700  of  1,040.    Elapsed: 0:08:53.\n",
            "  Batch   800  of  1,040.    Elapsed: 0:10:09.\n",
            "  Batch   900  of  1,040.    Elapsed: 0:11:25.\n",
            "  Batch 1,000  of  1,040.    Elapsed: 0:12:41.\n",
            "  \n",
            "Average training loss: 0.09\n",
            "  Training epcoh took: 0:13:11\n",
            "\n",
            "Running Validation...\n",
            "Val_acc: 0.95625, Val_F1: 0.6936026936026936, Val_precision: 0.6983050847457627, Val_recall: 0.6889632107023411\n",
            "Validation loss did not improve\n",
            "  Validation Loss: 0.13\n",
            "  Validation took: 0:00:33\n",
            "\n",
            "-> Epoch 3 / 4\n",
            "Training...\n",
            "  Batch   100  of  1,040.    Elapsed: 0:01:16.\n",
            "  Batch   200  of  1,040.    Elapsed: 0:02:31.\n",
            "  Batch   300  of  1,040.    Elapsed: 0:03:47.\n",
            "  Batch   400  of  1,040.    Elapsed: 0:05:03.\n",
            "  Batch   500  of  1,040.    Elapsed: 0:06:18.\n",
            "  Batch   600  of  1,040.    Elapsed: 0:07:34.\n",
            "  Batch   700  of  1,040.    Elapsed: 0:08:49.\n",
            "  Batch   800  of  1,040.    Elapsed: 0:10:05.\n",
            "  Batch   900  of  1,040.    Elapsed: 0:11:20.\n",
            "  Batch 1,000  of  1,040.    Elapsed: 0:12:36.\n",
            "  \n",
            "Average training loss: 0.04\n",
            "  Training epcoh took: 0:13:06\n",
            "\n",
            "Running Validation...\n",
            "Val_acc: 0.9615384615384616, Val_F1: 0.7260273972602739, Val_precision: 0.743859649122807, Val_recall: 0.7090301003344481\n",
            "Validation loss did not improve\n",
            "  Validation Loss: 0.16\n",
            "  Validation took: 0:00:33\n",
            "\n",
            "-> Epoch 4 / 4\n",
            "Training...\n",
            "  Batch   100  of  1,040.    Elapsed: 0:01:16.\n",
            "  Batch   200  of  1,040.    Elapsed: 0:02:31.\n",
            "  Batch   300  of  1,040.    Elapsed: 0:03:46.\n",
            "  Batch   400  of  1,040.    Elapsed: 0:05:01.\n",
            "  Batch   500  of  1,040.    Elapsed: 0:06:17.\n",
            "  Batch   600  of  1,040.    Elapsed: 0:07:32.\n",
            "  Batch   700  of  1,040.    Elapsed: 0:08:47.\n",
            "  Batch   800  of  1,040.    Elapsed: 0:10:02.\n",
            "  Batch   900  of  1,040.    Elapsed: 0:11:18.\n",
            "  Batch 1,000  of  1,040.    Elapsed: 0:12:33.\n",
            "  \n",
            "Average training loss: 0.02\n",
            "  Training epcoh took: 0:13:03\n",
            "\n",
            "Running Validation...\n",
            "Val_acc: 0.9646634615384615, Val_F1: 0.7452339688041595, Val_precision: 0.7733812949640287, Val_recall: 0.7190635451505016\n",
            "Validation loss did not improve\n",
            "  Validation Loss: 0.18\n",
            "  Validation took: 0:00:33\n"
          ],
          "name": "stdout"
        }
      ]
    },
    {
      "cell_type": "code",
      "metadata": {
        "id": "f18dY6jjW2jM"
      },
      "source": [
        "# Create a DataFrame from our training statistics.\n",
        "df_stats = pd.DataFrame(data=training_stats)\n",
        "# Use the 'epoch' as the row index.\n",
        "df_stats = df_stats.set_index('epoch')"
      ],
      "execution_count": null,
      "outputs": []
    },
    {
      "cell_type": "code",
      "metadata": {
        "id": "3vhgWz8pF5SE",
        "colab": {
          "base_uri": "https://localhost:8080/",
          "height": 441
        },
        "outputId": "2df5d021-2448-4b67-8faa-abf72c1bf62d"
      },
      "source": [
        "f, ax = plt.subplots(figsize=(10, 6))\n",
        "ax.set_title(\"Training and Validation Loss\")\n",
        "ax.plot(df_stats['Training Loss'], 'b-o', label='Training')\n",
        "ax.plot(df_stats['Valid. Loss'], 'g-o', label=\"Validation\")\n",
        "ax.set_xlabel(\"Epoch\")\n",
        "ax.set_ylabel(\"Loss\")\n",
        "ax.legend()\n",
        "ax.set_xticks(np.arange(1, 5, 1))\n",
        "plt.tight_layout()"
      ],
      "execution_count": null,
      "outputs": [
        {
          "output_type": "display_data",
          "data": {
            "image/png": "[encoded data removed]",
            "text/plain": [
              "<Figure size 720x432 with 1 Axes>"
            ]
          },
          "metadata": {
            "tags": []
          }
        }
      ]
    },
    {
      "cell_type": "code",
      "metadata": {
        "id": "NodyzWH2HjP9",
        "colab": {
          "base_uri": "https://localhost:8080/",
          "height": 204
        },
        "outputId": "fe82d68b-02b9-4aaa-c06d-8c0689831282"
      },
      "source": [
        "df_stats"
      ],
      "execution_count": null,
      "outputs": [
        {
          "output_type": "execute_result",
          "data": {
            "text/html": [
              "<div>\n",
              "<style scoped>\n",
              "    .dataframe tbody tr th:only-of-type {\n",
              "        vertical-align: middle;\n",
              "    }\n",
              "\n",
              "    .dataframe tbody tr th {\n",
              "        vertical-align: top;\n",
              "    }\n",
              "\n",
              "    .dataframe thead th {\n",
              "        text-align: right;\n",
              "    }\n",
              "</style>\n",
              "<table border=\"1\" class=\"dataframe\">\n",
              "  <thead>\n",
              "    <tr style=\"text-align: right;\">\n",
              "      <th></th>\n",
              "      <th>Training Loss</th>\n",
              "      <th>Valid. Loss</th>\n",
              "      <th>Valid. Acc</th>\n",
              "      <th>Valid. F1</th>\n",
              "      <th>Valid. Precision</th>\n",
              "      <th>Valid. Recall</th>\n",
              "      <th>Training Time</th>\n",
              "      <th>Validation Time</th>\n",
              "    </tr>\n",
              "    <tr>\n",
              "      <th>epoch</th>\n",
              "      <th></th>\n",
              "      <th></th>\n",
              "      <th></th>\n",
              "      <th></th>\n",
              "      <th></th>\n",
              "      <th></th>\n",
              "      <th></th>\n",
              "      <th></th>\n",
              "    </tr>\n",
              "  </thead>\n",
              "  <tbody>\n",
              "    <tr>\n",
              "      <th>1</th>\n",
              "      <td>0.155519</td>\n",
              "      <td>0.124961</td>\n",
              "      <td>0.951442</td>\n",
              "      <td>0.621723</td>\n",
              "      <td>0.706383</td>\n",
              "      <td>0.555184</td>\n",
              "      <td>0:13:13</td>\n",
              "      <td>0:00:43</td>\n",
              "    </tr>\n",
              "    <tr>\n",
              "      <th>2</th>\n",
              "      <td>0.089756</td>\n",
              "      <td>0.131856</td>\n",
              "      <td>0.956250</td>\n",
              "      <td>0.693603</td>\n",
              "      <td>0.698305</td>\n",
              "      <td>0.688963</td>\n",
              "      <td>0:13:11</td>\n",
              "      <td>0:00:33</td>\n",
              "    </tr>\n",
              "    <tr>\n",
              "      <th>3</th>\n",
              "      <td>0.043456</td>\n",
              "      <td>0.156193</td>\n",
              "      <td>0.961538</td>\n",
              "      <td>0.726027</td>\n",
              "      <td>0.743860</td>\n",
              "      <td>0.709030</td>\n",
              "      <td>0:13:06</td>\n",
              "      <td>0:00:33</td>\n",
              "    </tr>\n",
              "    <tr>\n",
              "      <th>4</th>\n",
              "      <td>0.018946</td>\n",
              "      <td>0.182983</td>\n",
              "      <td>0.964663</td>\n",
              "      <td>0.745234</td>\n",
              "      <td>0.773381</td>\n",
              "      <td>0.719064</td>\n",
              "      <td>0:13:03</td>\n",
              "      <td>0:00:33</td>\n",
              "    </tr>\n",
              "  </tbody>\n",
              "</table>\n",
              "</div>"
            ],
            "text/plain": [
              "       Training Loss  Valid. Loss  ...  Training Time  Validation Time\n",
              "epoch                              ...                                \n",
              "1           0.155519     0.124961  ...        0:13:13          0:00:43\n",
              "2           0.089756     0.131856  ...        0:13:11          0:00:33\n",
              "3           0.043456     0.156193  ...        0:13:06          0:00:33\n",
              "4           0.018946     0.182983  ...        0:13:03          0:00:33\n",
              "\n",
              "[4 rows x 8 columns]"
            ]
          },
          "metadata": {
            "tags": []
          },
          "execution_count": 39
        }
      ]
    },
    {
      "cell_type": "markdown",
      "metadata": {
        "id": "Cu_qstELHdqK"
      },
      "source": [
        "Some of the concluisions we can extract from the previous descriptive metrics we have obtained from this bunch of performance metrics and plots are the following:\n",
        "\n",
        "\n",
        "*   After first epoch, the model starts to overfit notoriously. This can be depicted from the Training/Validation Loss plot.\n",
        "*   In the second epoch, recall value experiments a considerably change.\n",
        "* Third and fourth epoch have quite similar results. In both of them, the overfitting problem is significant, nonetheless, classification report values of F1/Precision/Recall are better than the previous two epochs. This is not casual, because the dataset, as we have noticed in the exploratory analysis, is deeply unbalanced, having far more samples standing for `not-claim` than for `claim`. This is the typical case where, if we create a toy model that only predicts `not-claim` labels, it would obtain a 99% of accuracy.\n",
        "* In the fourth epoch is where we obtained the best result in terms of avoiding False Negatives (FN) predictions.\n",
        "\n",
        "My decision is to retrain the model with the whole trainingset (train+validation) for 4 epochs, because, despite of knowing that the model is overfitted, taking into acount that our first goal is to overweight the Recall metric, and avoiding that true `claim` would be missclassified as `not-claim` and not having the chance of analyze them in a verification process. The opposite case is not so bad, because if we predict a `not-claim` sample as `claim`, we will be able to discard it in the subsequent process.\n",
        "\n"
      ]
    },
    {
      "cell_type": "code",
      "metadata": {
        "id": "dcUXGyW2wvgr"
      },
      "source": [
        "trainset_all = ConcatDataset([trainset, valset])\n",
        "train_generator_all = DataLoader(dataset=trainset_all, \n",
        "                                 batch_size=batch_size, \n",
        "                                 sampler = RandomSampler(trainset_all))"
      ],
      "execution_count": null,
      "outputs": []
    },
    {
      "cell_type": "code",
      "metadata": {
        "id": "foLl-2-Kr9CV",
        "colab": {
          "base_uri": "https://localhost:8080/",
          "height": 1000
        },
        "outputId": "1d4141b5-71ff-4e96-8c87-e625e26a8c86"
      },
      "source": [
        "# Instantiate BertTrainValidateTest class for helping us with the construction of the model and its evaluation\n",
        "bert_clf = BertTrainValidateTest(batch_size=batch_size, \n",
        "                                 learning_rate=lr, \n",
        "                                 epochs=4)\n",
        "# Load pre-trained model for fine-tuning it (Reinitialize the pre-trained model we have modified before)\n",
        "model = bert_clf.load_pretrained_model(model_class=BertForSequenceClassification,  \n",
        "                                       model_name=\"bert-base-multilingual-cased\", \n",
        "                                       num_labels=2, \n",
        "                                       output_attentions=False, \n",
        "                                       output_hidden_states=False, \n",
        "                                       fine_tune='all')\n",
        "# Fix seed value for reproducible results\n",
        "seed_val = 42\n",
        "random.seed(seed_val)\n",
        "np.random.seed(seed_val)\n",
        "torch.manual_seed(seed_val)\n",
        "torch.cuda.manual_seed_all(seed_val)"
      ],
      "execution_count": null,
      "outputs": [
        {
          "output_type": "stream",
          "text": [
            "Some weights of the model checkpoint at bert-base-multilingual-cased were not used when initializing BertForSequenceClassification: ['cls.predictions.bias', 'cls.predictions.transform.dense.weight', 'cls.predictions.transform.dense.bias', 'cls.predictions.decoder.weight', 'cls.seq_relationship.weight', 'cls.seq_relationship.bias', 'cls.predictions.transform.LayerNorm.weight', 'cls.predictions.transform.LayerNorm.bias']\n",
            "- This IS expected if you are initializing BertForSequenceClassification from the checkpoint of a model trained on another task or with another architecture (e.g. initializing a BertForSequenceClassification model from a BertForPretraining model).\n",
            "- This IS NOT expected if you are initializing BertForSequenceClassification from the checkpoint of a model that you expect to be exactly identical (initializing a BertForSequenceClassification model from a BertForSequenceClassification model).\n",
            "Some weights of BertForSequenceClassification were not initialized from the model checkpoint at bert-base-multilingual-cased and are newly initialized: ['classifier.weight', 'classifier.bias']\n",
            "You should probably TRAIN this model on a down-stream task to be able to use it for predictions and inference.\n"
          ],
          "name": "stderr"
        },
        {
          "output_type": "stream",
          "text": [
            "BertForSequenceClassification(\n",
            "  (bert): BertModel(\n",
            "    (embeddings): BertEmbeddings(\n",
            "      (word_embeddings): Embedding(119547, 768, padding_idx=0)\n",
            "      (position_embeddings): Embedding(512, 768)\n",
            "      (token_type_embeddings): Embedding(2, 768)\n",
            "      (LayerNorm): LayerNorm((768,), eps=1e-12, elementwise_affine=True)\n",
            "      (dropout): Dropout(p=0.1, inplace=False)\n",
            "    )\n",
            "    (encoder): BertEncoder(\n",
            "      (layer): ModuleList(\n",
            "        (0): BertLayer(\n",
            "          (attention): BertAttention(\n",
            "            (self): BertSelfAttention(\n",
            "              (query): Linear(in_features=768, out_features=768, bias=True)\n",
            "              (key): Linear(in_features=768, out_features=768, bias=True)\n",
            "              (value): Linear(in_features=768, out_features=768, bias=True)\n",
            "              (dropout): Dropout(p=0.1, inplace=False)\n",
            "            )\n",
            "            (output): BertSelfOutput(\n",
            "              (dense): Linear(in_features=768, out_features=768, bias=True)\n",
            "              (LayerNorm): LayerNorm((768,), eps=1e-12, elementwise_affine=True)\n",
            "              (dropout): Dropout(p=0.1, inplace=False)\n",
            "            )\n",
            "          )\n",
            "          (intermediate): BertIntermediate(\n",
            "            (dense): Linear(in_features=768, out_features=3072, bias=True)\n",
            "          )\n",
            "          (output): BertOutput(\n",
            "            (dense): Linear(in_features=3072, out_features=768, bias=True)\n",
            "            (LayerNorm): LayerNorm((768,), eps=1e-12, elementwise_affine=True)\n",
            "            (dropout): Dropout(p=0.1, inplace=False)\n",
            "          )\n",
            "        )\n",
            "        (1): BertLayer(\n",
            "          (attention): BertAttention(\n",
            "            (self): BertSelfAttention(\n",
            "              (query): Linear(in_features=768, out_features=768, bias=True)\n",
            "              (key): Linear(in_features=768, out_features=768, bias=True)\n",
            "              (value): Linear(in_features=768, out_features=768, bias=True)\n",
            "              (dropout): Dropout(p=0.1, inplace=False)\n",
            "            )\n",
            "            (output): BertSelfOutput(\n",
            "              (dense): Linear(in_features=768, out_features=768, bias=True)\n",
            "              (LayerNorm): LayerNorm((768,), eps=1e-12, elementwise_affine=True)\n",
            "              (dropout): Dropout(p=0.1, inplace=False)\n",
            "            )\n",
            "          )\n",
            "          (intermediate): BertIntermediate(\n",
            "            (dense): Linear(in_features=768, out_features=3072, bias=True)\n",
            "          )\n",
            "          (output): BertOutput(\n",
            "            (dense): Linear(in_features=3072, out_features=768, bias=True)\n",
            "            (LayerNorm): LayerNorm((768,), eps=1e-12, elementwise_affine=True)\n",
            "            (dropout): Dropout(p=0.1, inplace=False)\n",
            "          )\n",
            "        )\n",
            "        (2): BertLayer(\n",
            "          (attention): BertAttention(\n",
            "            (self): BertSelfAttention(\n",
            "              (query): Linear(in_features=768, out_features=768, bias=True)\n",
            "              (key): Linear(in_features=768, out_features=768, bias=True)\n",
            "              (value): Linear(in_features=768, out_features=768, bias=True)\n",
            "              (dropout): Dropout(p=0.1, inplace=False)\n",
            "            )\n",
            "            (output): BertSelfOutput(\n",
            "              (dense): Linear(in_features=768, out_features=768, bias=True)\n",
            "              (LayerNorm): LayerNorm((768,), eps=1e-12, elementwise_affine=True)\n",
            "              (dropout): Dropout(p=0.1, inplace=False)\n",
            "            )\n",
            "          )\n",
            "          (intermediate): BertIntermediate(\n",
            "            (dense): Linear(in_features=768, out_features=3072, bias=True)\n",
            "          )\n",
            "          (output): BertOutput(\n",
            "            (dense): Linear(in_features=3072, out_features=768, bias=True)\n",
            "            (LayerNorm): LayerNorm((768,), eps=1e-12, elementwise_affine=True)\n",
            "            (dropout): Dropout(p=0.1, inplace=False)\n",
            "          )\n",
            "        )\n",
            "        (3): BertLayer(\n",
            "          (attention): BertAttention(\n",
            "            (self): BertSelfAttention(\n",
            "              (query): Linear(in_features=768, out_features=768, bias=True)\n",
            "              (key): Linear(in_features=768, out_features=768, bias=True)\n",
            "              (value): Linear(in_features=768, out_features=768, bias=True)\n",
            "              (dropout): Dropout(p=0.1, inplace=False)\n",
            "            )\n",
            "            (output): BertSelfOutput(\n",
            "              (dense): Linear(in_features=768, out_features=768, bias=True)\n",
            "              (LayerNorm): LayerNorm((768,), eps=1e-12, elementwise_affine=True)\n",
            "              (dropout): Dropout(p=0.1, inplace=False)\n",
            "            )\n",
            "          )\n",
            "          (intermediate): BertIntermediate(\n",
            "            (dense): Linear(in_features=768, out_features=3072, bias=True)\n",
            "          )\n",
            "          (output): BertOutput(\n",
            "            (dense): Linear(in_features=3072, out_features=768, bias=True)\n",
            "            (LayerNorm): LayerNorm((768,), eps=1e-12, elementwise_affine=True)\n",
            "            (dropout): Dropout(p=0.1, inplace=False)\n",
            "          )\n",
            "        )\n",
            "        (4): BertLayer(\n",
            "          (attention): BertAttention(\n",
            "            (self): BertSelfAttention(\n",
            "              (query): Linear(in_features=768, out_features=768, bias=True)\n",
            "              (key): Linear(in_features=768, out_features=768, bias=True)\n",
            "              (value): Linear(in_features=768, out_features=768, bias=True)\n",
            "              (dropout): Dropout(p=0.1, inplace=False)\n",
            "            )\n",
            "            (output): BertSelfOutput(\n",
            "              (dense): Linear(in_features=768, out_features=768, bias=True)\n",
            "              (LayerNorm): LayerNorm((768,), eps=1e-12, elementwise_affine=True)\n",
            "              (dropout): Dropout(p=0.1, inplace=False)\n",
            "            )\n",
            "          )\n",
            "          (intermediate): BertIntermediate(\n",
            "            (dense): Linear(in_features=768, out_features=3072, bias=True)\n",
            "          )\n",
            "          (output): BertOutput(\n",
            "            (dense): Linear(in_features=3072, out_features=768, bias=True)\n",
            "            (LayerNorm): LayerNorm((768,), eps=1e-12, elementwise_affine=True)\n",
            "            (dropout): Dropout(p=0.1, inplace=False)\n",
            "          )\n",
            "        )\n",
            "        (5): BertLayer(\n",
            "          (attention): BertAttention(\n",
            "            (self): BertSelfAttention(\n",
            "              (query): Linear(in_features=768, out_features=768, bias=True)\n",
            "              (key): Linear(in_features=768, out_features=768, bias=True)\n",
            "              (value): Linear(in_features=768, out_features=768, bias=True)\n",
            "              (dropout): Dropout(p=0.1, inplace=False)\n",
            "            )\n",
            "            (output): BertSelfOutput(\n",
            "              (dense): Linear(in_features=768, out_features=768, bias=True)\n",
            "              (LayerNorm): LayerNorm((768,), eps=1e-12, elementwise_affine=True)\n",
            "              (dropout): Dropout(p=0.1, inplace=False)\n",
            "            )\n",
            "          )\n",
            "          (intermediate): BertIntermediate(\n",
            "            (dense): Linear(in_features=768, out_features=3072, bias=True)\n",
            "          )\n",
            "          (output): BertOutput(\n",
            "            (dense): Linear(in_features=3072, out_features=768, bias=True)\n",
            "            (LayerNorm): LayerNorm((768,), eps=1e-12, elementwise_affine=True)\n",
            "            (dropout): Dropout(p=0.1, inplace=False)\n",
            "          )\n",
            "        )\n",
            "        (6): BertLayer(\n",
            "          (attention): BertAttention(\n",
            "            (self): BertSelfAttention(\n",
            "              (query): Linear(in_features=768, out_features=768, bias=True)\n",
            "              (key): Linear(in_features=768, out_features=768, bias=True)\n",
            "              (value): Linear(in_features=768, out_features=768, bias=True)\n",
            "              (dropout): Dropout(p=0.1, inplace=False)\n",
            "            )\n",
            "            (output): BertSelfOutput(\n",
            "              (dense): Linear(in_features=768, out_features=768, bias=True)\n",
            "              (LayerNorm): LayerNorm((768,), eps=1e-12, elementwise_affine=True)\n",
            "              (dropout): Dropout(p=0.1, inplace=False)\n",
            "            )\n",
            "          )\n",
            "          (intermediate): BertIntermediate(\n",
            "            (dense): Linear(in_features=768, out_features=3072, bias=True)\n",
            "          )\n",
            "          (output): BertOutput(\n",
            "            (dense): Linear(in_features=3072, out_features=768, bias=True)\n",
            "            (LayerNorm): LayerNorm((768,), eps=1e-12, elementwise_affine=True)\n",
            "            (dropout): Dropout(p=0.1, inplace=False)\n",
            "          )\n",
            "        )\n",
            "        (7): BertLayer(\n",
            "          (attention): BertAttention(\n",
            "            (self): BertSelfAttention(\n",
            "              (query): Linear(in_features=768, out_features=768, bias=True)\n",
            "              (key): Linear(in_features=768, out_features=768, bias=True)\n",
            "              (value): Linear(in_features=768, out_features=768, bias=True)\n",
            "              (dropout): Dropout(p=0.1, inplace=False)\n",
            "            )\n",
            "            (output): BertSelfOutput(\n",
            "              (dense): Linear(in_features=768, out_features=768, bias=True)\n",
            "              (LayerNorm): LayerNorm((768,), eps=1e-12, elementwise_affine=True)\n",
            "              (dropout): Dropout(p=0.1, inplace=False)\n",
            "            )\n",
            "          )\n",
            "          (intermediate): BertIntermediate(\n",
            "            (dense): Linear(in_features=768, out_features=3072, bias=True)\n",
            "          )\n",
            "          (output): BertOutput(\n",
            "            (dense): Linear(in_features=3072, out_features=768, bias=True)\n",
            "            (LayerNorm): LayerNorm((768,), eps=1e-12, elementwise_affine=True)\n",
            "            (dropout): Dropout(p=0.1, inplace=False)\n",
            "          )\n",
            "        )\n",
            "        (8): BertLayer(\n",
            "          (attention): BertAttention(\n",
            "            (self): BertSelfAttention(\n",
            "              (query): Linear(in_features=768, out_features=768, bias=True)\n",
            "              (key): Linear(in_features=768, out_features=768, bias=True)\n",
            "              (value): Linear(in_features=768, out_features=768, bias=True)\n",
            "              (dropout): Dropout(p=0.1, inplace=False)\n",
            "            )\n",
            "            (output): BertSelfOutput(\n",
            "              (dense): Linear(in_features=768, out_features=768, bias=True)\n",
            "              (LayerNorm): LayerNorm((768,), eps=1e-12, elementwise_affine=True)\n",
            "              (dropout): Dropout(p=0.1, inplace=False)\n",
            "            )\n",
            "          )\n",
            "          (intermediate): BertIntermediate(\n",
            "            (dense): Linear(in_features=768, out_features=3072, bias=True)\n",
            "          )\n",
            "          (output): BertOutput(\n",
            "            (dense): Linear(in_features=3072, out_features=768, bias=True)\n",
            "            (LayerNorm): LayerNorm((768,), eps=1e-12, elementwise_affine=True)\n",
            "            (dropout): Dropout(p=0.1, inplace=False)\n",
            "          )\n",
            "        )\n",
            "        (9): BertLayer(\n",
            "          (attention): BertAttention(\n",
            "            (self): BertSelfAttention(\n",
            "              (query): Linear(in_features=768, out_features=768, bias=True)\n",
            "              (key): Linear(in_features=768, out_features=768, bias=True)\n",
            "              (value): Linear(in_features=768, out_features=768, bias=True)\n",
            "              (dropout): Dropout(p=0.1, inplace=False)\n",
            "            )\n",
            "            (output): BertSelfOutput(\n",
            "              (dense): Linear(in_features=768, out_features=768, bias=True)\n",
            "              (LayerNorm): LayerNorm((768,), eps=1e-12, elementwise_affine=True)\n",
            "              (dropout): Dropout(p=0.1, inplace=False)\n",
            "            )\n",
            "          )\n",
            "          (intermediate): BertIntermediate(\n",
            "            (dense): Linear(in_features=768, out_features=3072, bias=True)\n",
            "          )\n",
            "          (output): BertOutput(\n",
            "            (dense): Linear(in_features=3072, out_features=768, bias=True)\n",
            "            (LayerNorm): LayerNorm((768,), eps=1e-12, elementwise_affine=True)\n",
            "            (dropout): Dropout(p=0.1, inplace=False)\n",
            "          )\n",
            "        )\n",
            "        (10): BertLayer(\n",
            "          (attention): BertAttention(\n",
            "            (self): BertSelfAttention(\n",
            "              (query): Linear(in_features=768, out_features=768, bias=True)\n",
            "              (key): Linear(in_features=768, out_features=768, bias=True)\n",
            "              (value): Linear(in_features=768, out_features=768, bias=True)\n",
            "              (dropout): Dropout(p=0.1, inplace=False)\n",
            "            )\n",
            "            (output): BertSelfOutput(\n",
            "              (dense): Linear(in_features=768, out_features=768, bias=True)\n",
            "              (LayerNorm): LayerNorm((768,), eps=1e-12, elementwise_affine=True)\n",
            "              (dropout): Dropout(p=0.1, inplace=False)\n",
            "            )\n",
            "          )\n",
            "          (intermediate): BertIntermediate(\n",
            "            (dense): Linear(in_features=768, out_features=3072, bias=True)\n",
            "          )\n",
            "          (output): BertOutput(\n",
            "            (dense): Linear(in_features=3072, out_features=768, bias=True)\n",
            "            (LayerNorm): LayerNorm((768,), eps=1e-12, elementwise_affine=True)\n",
            "            (dropout): Dropout(p=0.1, inplace=False)\n",
            "          )\n",
            "        )\n",
            "        (11): BertLayer(\n",
            "          (attention): BertAttention(\n",
            "            (self): BertSelfAttention(\n",
            "              (query): Linear(in_features=768, out_features=768, bias=True)\n",
            "              (key): Linear(in_features=768, out_features=768, bias=True)\n",
            "              (value): Linear(in_features=768, out_features=768, bias=True)\n",
            "              (dropout): Dropout(p=0.1, inplace=False)\n",
            "            )\n",
            "            (output): BertSelfOutput(\n",
            "              (dense): Linear(in_features=768, out_features=768, bias=True)\n",
            "              (LayerNorm): LayerNorm((768,), eps=1e-12, elementwise_affine=True)\n",
            "              (dropout): Dropout(p=0.1, inplace=False)\n",
            "            )\n",
            "          )\n",
            "          (intermediate): BertIntermediate(\n",
            "            (dense): Linear(in_features=768, out_features=3072, bias=True)\n",
            "          )\n",
            "          (output): BertOutput(\n",
            "            (dense): Linear(in_features=3072, out_features=768, bias=True)\n",
            "            (LayerNorm): LayerNorm((768,), eps=1e-12, elementwise_affine=True)\n",
            "            (dropout): Dropout(p=0.1, inplace=False)\n",
            "          )\n",
            "        )\n",
            "      )\n",
            "    )\n",
            "    (pooler): BertPooler(\n",
            "      (dense): Linear(in_features=768, out_features=768, bias=True)\n",
            "      (activation): Tanh()\n",
            "    )\n",
            "  )\n",
            "  (dropout): Dropout(p=0.1, inplace=False)\n",
            "  (classifier): Linear(in_features=768, out_features=2, bias=True)\n",
            ")\n"
          ],
          "name": "stdout"
        }
      ]
    },
    {
      "cell_type": "code",
      "metadata": {
        "id": "LgAfhVyer_F8",
        "colab": {
          "base_uri": "https://localhost:8080/",
          "height": 1000
        },
        "outputId": "3094c6e8-2cdb-4a01-86b5-1ee5028958df"
      },
      "source": [
        "model, training_stats = bert_clf.train(train_generator=train_generator, \n",
        "                                       val_generator=None)"
      ],
      "execution_count": null,
      "outputs": [
        {
          "output_type": "stream",
          "text": [
            "\n",
            "-> Epoch 1 / 4\n",
            "Training...\n",
            "  Batch   100  of  1,040.    Elapsed: 0:01:17.\n",
            "  Batch   200  of  1,040.    Elapsed: 0:02:33.\n",
            "  Batch   300  of  1,040.    Elapsed: 0:03:49.\n",
            "  Batch   400  of  1,040.    Elapsed: 0:05:06.\n",
            "  Batch   500  of  1,040.    Elapsed: 0:06:22.\n",
            "  Batch   600  of  1,040.    Elapsed: 0:07:38.\n",
            "  Batch   700  of  1,040.    Elapsed: 0:08:54.\n",
            "  Batch   800  of  1,040.    Elapsed: 0:10:10.\n",
            "  Batch   900  of  1,040.    Elapsed: 0:11:27.\n",
            "  Batch 1,000  of  1,040.    Elapsed: 0:12:43.\n",
            "  \n",
            "Average training loss: 0.15\n",
            "  Training epcoh took: 0:13:13\n",
            "\n",
            "-> Epoch 2 / 4\n",
            "Training...\n",
            "  Batch   100  of  1,040.    Elapsed: 0:01:16.\n",
            "  Batch   200  of  1,040.    Elapsed: 0:02:32.\n",
            "  Batch   300  of  1,040.    Elapsed: 0:03:48.\n",
            "  Batch   400  of  1,040.    Elapsed: 0:05:05.\n",
            "  Batch   500  of  1,040.    Elapsed: 0:06:21.\n",
            "  Batch   600  of  1,040.    Elapsed: 0:07:37.\n",
            "  Batch   700  of  1,040.    Elapsed: 0:08:53.\n",
            "  Batch   800  of  1,040.    Elapsed: 0:10:09.\n",
            "  Batch   900  of  1,040.    Elapsed: 0:11:25.\n",
            "  Batch 1,000  of  1,040.    Elapsed: 0:12:41.\n",
            "  \n",
            "Average training loss: 0.09\n",
            "  Training epcoh took: 0:13:12\n",
            "\n",
            "-> Epoch 3 / 4\n",
            "Training...\n",
            "  Batch   100  of  1,040.    Elapsed: 0:01:16.\n",
            "  Batch   200  of  1,040.    Elapsed: 0:02:31.\n",
            "  Batch   300  of  1,040.    Elapsed: 0:03:47.\n",
            "  Batch   400  of  1,040.    Elapsed: 0:05:03.\n",
            "  Batch   500  of  1,040.    Elapsed: 0:06:18.\n",
            "  Batch   600  of  1,040.    Elapsed: 0:07:34.\n",
            "  Batch   700  of  1,040.    Elapsed: 0:08:50.\n",
            "  Batch   800  of  1,040.    Elapsed: 0:10:05.\n",
            "  Batch   900  of  1,040.    Elapsed: 0:11:20.\n",
            "  Batch 1,000  of  1,040.    Elapsed: 0:12:36.\n",
            "  \n",
            "Average training loss: 0.04\n",
            "  Training epcoh took: 0:13:06\n",
            "\n",
            "-> Epoch 4 / 4\n",
            "Training...\n",
            "  Batch   100  of  1,040.    Elapsed: 0:01:15.\n",
            "  Batch   200  of  1,040.    Elapsed: 0:02:31.\n",
            "  Batch   300  of  1,040.    Elapsed: 0:03:46.\n",
            "  Batch   400  of  1,040.    Elapsed: 0:05:01.\n",
            "  Batch   500  of  1,040.    Elapsed: 0:06:16.\n",
            "  Batch   600  of  1,040.    Elapsed: 0:07:32.\n",
            "  Batch   700  of  1,040.    Elapsed: 0:08:47.\n",
            "  Batch   800  of  1,040.    Elapsed: 0:10:02.\n",
            "  Batch   900  of  1,040.    Elapsed: 0:11:18.\n",
            "  Batch 1,000  of  1,040.    Elapsed: 0:12:33.\n",
            "  \n",
            "Average training loss: 0.02\n",
            "  Training epcoh took: 0:13:03\n"
          ],
          "name": "stdout"
        }
      ]
    },
    {
      "cell_type": "code",
      "metadata": {
        "id": "4BN3Bg4bvugL"
      },
      "source": [
        "torch.save(model, \n",
        "           'drive/My Drive/Colab Notebooks/best-model.pt')\n",
        "torch.save(model.state_dict(), \n",
        "           'drive/My Drive/Colab Notebooks/best-model-parameters.pt')"
      ],
      "execution_count": null,
      "outputs": []
    },
    {
      "cell_type": "markdown",
      "metadata": {
        "id": "B-nVqlo4h0vD"
      },
      "source": [
        "## Evaluate model 1: Multilingual BERT for Sequence Classification fine-tuning"
      ]
    },
    {
      "cell_type": "code",
      "metadata": {
        "id": "aRbNN_qXyDYd"
      },
      "source": [
        "# Define an iterator for efficiently streaming batches of data for training the model\n",
        "test_generator = DataLoader(dataset=testset,  \n",
        "                            batch_size=batch_size, \n",
        "                            sampler=SequentialSampler(testset))"
      ],
      "execution_count": null,
      "outputs": []
    },
    {
      "cell_type": "code",
      "metadata": {
        "id": "o1Mt_jPjzYjQ",
        "colab": {
          "base_uri": "https://localhost:8080/",
          "height": 85
        },
        "outputId": "f080998f-10b4-4bcc-a911-e036c32130b1"
      },
      "source": [
        "predictions, true_labels = bert_clf.test(test_generator)"
      ],
      "execution_count": null,
      "outputs": [
        {
          "output_type": "stream",
          "text": [
            "\n",
            "Predicting unseen samples...\n",
            "Test_acc: 0.9644230769230769, Test_F1: 0.7430555555555557, Test_precision: 0.7725631768953068, Test_recall: 0.7157190635451505\n",
            "  Test took: 0:00:33\n"
          ],
          "name": "stdout"
        }
      ]
    },
    {
      "cell_type": "code",
      "metadata": {
        "id": "1FLx5JR-vHzr",
        "colab": {
          "base_uri": "https://localhost:8080/",
          "height": 441
        },
        "outputId": "162e9518-a1d8-4d15-88b1-87c2763e8e1b"
      },
      "source": [
        "# Confusion Matrix\n",
        "cm = confusion_matrix(y_true=np.array(true_labels).flatten(), y_pred=np.array(predictions).flatten())\n",
        "df_cm = pd.DataFrame(cm, index=[[l for l in ['no-claim', 'claim']]],\n",
        "                      columns=[[l for l in ['no-claim', 'claim']]])\n",
        "f, ax = plt.subplots(figsize=(6, 6))\n",
        "ax.set_title(\"Confusion Matrix\")\n",
        "cm_plot = sns.heatmap(df_cm, annot=True, fmt=\"d\", cmap=\"Blues\", linewidths=.5, cbar=False,\n",
        "                      square=True, ax=ax, norm=PowerNorm(gamma=0.15))\n",
        "ax.set_ylabel(\"True label\")\n",
        "ax.set_xlabel(\"Predicted label\")\n",
        "plt.tight_layout()"
      ],
      "execution_count": null,
      "outputs": [
        {
          "output_type": "display_data",
          "data": {
            "image/png": "[encoded data removed]",
            "text/plain": [
              "<Figure size 432x432 with 1 Axes>"
            ]
          },
          "metadata": {
            "tags": []
          }
        }
      ]
    },
    {
      "cell_type": "code",
      "metadata": {
        "id": "s49oa54Erhy2"
      },
      "source": [
        "report_csv_multi_bert = pd.DataFrame(columns=['sentence', 'claim_ground_truth', 'claim_prediction'])\n",
        "report_csv_multi_bert['sentence'] = test_text['text']\n",
        "report_csv_multi_bert['claim_ground_truth'] = test_text['claim']\n",
        "report_csv_multi_bert['claim_prediction'] = np.array(predictions).flatten()"
      ],
      "execution_count": null,
      "outputs": []
    },
    {
      "cell_type": "code",
      "metadata": {
        "id": "7BSSmtbTMkmF"
      },
      "source": [
        "report_csv_multi_bert.to_csv('drive/My Drive/Colab Notebooks/report_csv_multi_bert.csv', index=False, encoding='utf8')"
      ],
      "execution_count": null,
      "outputs": []
    },
    {
      "cell_type": "markdown",
      "metadata": {
        "id": "ZztkvJcr7r-s"
      },
      "source": [
        "## Define and Train model 2: Multilingual Universal Sentence Encoder fine-tuning (only classification layer)"
      ]
    },
    {
      "cell_type": "markdown",
      "metadata": {
        "id": "4YMmj6aIEMm1"
      },
      "source": [
        "In order to use other architecture different than Transformers, we are going to use in this case a Universal Sentence Encoder implementing a CNN encoder. This will allow us to train faster. Let's check if the improvement in computing time is worth it with regard to the final performance quality.\n",
        "\n",
        "This time, we are going to leave the pre-trained model as is, and add a head layer (fully-connected dense layer) on top of it to only tune these weights and suit the model to our classification problem.\n",
        "\n",
        "The decision of not training all the available parameters of the pre-trained model, maybe would lead us not to fall again in the overfitting problem, because training only the last decision layer, do not need very large datasets to achieve model properly all trainable parameters."
      ]
    },
    {
      "cell_type": "code",
      "metadata": {
        "id": "pol2b7e27qqU"
      },
      "source": [
        "def build_model(model_url, num_labels):\n",
        "  \"\"\" Simple model that receives text input as string and embed it with the MUSE \n",
        "  embedding layer. After that a simple fully-connected layer is implemented for \n",
        "  further processing and eventually a sigmoid layer is added for decision-taking. \n",
        "  \"\"\"\n",
        "  input_layer = tf.keras.layers.Input(shape=(1, ), dtype=tf.string)\n",
        "  embedding_layer = hub.KerasLayer(model_url, trainable=False)(tf.squeeze(tf.cast(input_layer, tf.string)))\n",
        "  layer_norm = tf.keras.layers.BatchNormalization()(embedding_layer)\n",
        "  layer_dropout = tf.keras.layers.Dropout(0.4)(layer_norm)\n",
        "  hidden_layer = tf.keras.layers.Dense(units=512, activation='relu')(embedding_layer)\n",
        "  layer_norm = tf.keras.layers.BatchNormalization()(hidden_layer)\n",
        "  layer_dropout = tf.keras.layers.Dropout(0.4)(layer_norm)\n",
        "  output_layer = tf.keras.layers.Dense(units=1, activation='sigmoid')(hidden_layer)\n",
        "\n",
        "  model = tf.keras.Model(inputs=input_layer, outputs=output_layer)\n",
        "\n",
        "  return model"
      ],
      "execution_count": 44,
      "outputs": []
    },
    {
      "cell_type": "code",
      "metadata": {
        "id": "K49Oq937zCuT"
      },
      "source": [
        "model = build_model(model_url='https://tfhub.dev/google/universal-sentence-encoder-multilingual/3', \n",
        "                    num_labels=2)"
      ],
      "execution_count": 45,
      "outputs": []
    },
    {
      "cell_type": "code",
      "metadata": {
        "id": "9EwFv01PzN30",
        "colab": {
          "base_uri": "https://localhost:8080/"
        },
        "outputId": "61c26bd3-3308-46b1-c7cd-e7cc71b921c0"
      },
      "source": [
        "model.summary()"
      ],
      "execution_count": 46,
      "outputs": [
        {
          "output_type": "stream",
          "text": [
            "Model: \"model_1\"\n",
            "_________________________________________________________________\n",
            "Layer (type)                 Output Shape              Param #   \n",
            "=================================================================\n",
            "input_2 (InputLayer)         [(None, 1)]               0         \n",
            "_________________________________________________________________\n",
            "tf.cast_1 (TFOpLambda)       (None, 1)                 0         \n",
            "_________________________________________________________________\n",
            "tf.compat.v1.squeeze_1 (TFOp None                      0         \n",
            "_________________________________________________________________\n",
            "keras_layer_1 (KerasLayer)   (None, 512)               68927232  \n",
            "_________________________________________________________________\n",
            "dense_2 (Dense)              (None, 512)               262656    \n",
            "_________________________________________________________________\n",
            "dense_3 (Dense)              (None, 1)                 513       \n",
            "=================================================================\n",
            "Total params: 69,190,401\n",
            "Trainable params: 263,169\n",
            "Non-trainable params: 68,927,232\n",
            "_________________________________________________________________\n"
          ],
          "name": "stdout"
        }
      ]
    },
    {
      "cell_type": "code",
      "metadata": {
        "id": "zKSzC6FU2-z-"
      },
      "source": [
        "# Performance metrics to pass to the model for tracking its improvent by epoch\n",
        "def recall(y_true,\n",
        "           y_pred):\n",
        "    TP = K.sum(K.round(K.clip(y_true * y_pred, 0, 1)))\n",
        "    TPandFN = K.sum(K.round(K.clip(y_true, 0, 1)))\n",
        "    return TP / (TPandFN + K.epsilon())\n",
        "\n",
        "\n",
        "def precision(y_true, \n",
        "              y_pred):\n",
        "    TP = K.sum(K.round(K.clip(y_true * y_pred, 0, 1)))\n",
        "    TPandFP = K.sum(K.round(K.clip(y_pred, 0, 1)))\n",
        "    return TP / (TPandFP + K.epsilon())\n",
        "\n",
        "\n",
        "def f1(y_true,\n",
        "       y_pred):\n",
        "    r = recall(y_true, y_pred)\n",
        "    p = precision(y_true, y_pred)\n",
        "    return 2*((p*r) / (p+r+K.epsilon()))"
      ],
      "execution_count": 43,
      "outputs": []
    },
    {
      "cell_type": "code",
      "metadata": {
        "id": "jHdJVUFO0uhq"
      },
      "source": [
        "model.compile(optimizer='adam', loss='binary_crossentropy', metrics=['accuracy', f1, precision, recall])"
      ],
      "execution_count": 47,
      "outputs": []
    },
    {
      "cell_type": "code",
      "metadata": {
        "id": "ijxWIj-O1KsV"
      },
      "source": [
        "# Callbacks\n",
        "checkpointer = tf.keras.callbacks.ModelCheckpoint(filepath='drive/MyDrive/ColabNotebooks/claim_check_worthiness/best-model.hdf5', \n",
        "                                                  verbose=True, \n",
        "                                                  save_best_only=True)\n",
        "earlystopper = tf.keras.callbacks.EarlyStopping(monitor='val_loss', \n",
        "                                                patience=3, \n",
        "                                                restore_best_weights=True)\n",
        "myCallbacks = [checkpointer, earlystopper]"
      ],
      "execution_count": 48,
      "outputs": []
    },
    {
      "cell_type": "code",
      "metadata": {
        "id": "bqMe5nBz5A_v"
      },
      "source": [
        "ohe = OneHotEncoder(categories='auto', sparse=False)\n",
        "y_train = ohe.fit_transform(train_text['claim'].values.reshape(-1, 1))\n",
        "y_val = ohe.transform(val_text['claim'].values.reshape(-1,1))"
      ],
      "execution_count": 114,
      "outputs": []
    },
    {
      "cell_type": "code",
      "metadata": {
        "colab": {
          "base_uri": "https://localhost:8080/"
        },
        "id": "H7Eih6qaFr50",
        "outputId": "ce5d7e1b-54ce-436b-c8ec-422754115384"
      },
      "source": [
        "train_text['claim'].values.reshape(-1, 1)"
      ],
      "execution_count": 29,
      "outputs": [
        {
          "output_type": "execute_result",
          "data": {
            "text/plain": [
              "array([[1],\n",
              "       [0],\n",
              "       [0],\n",
              "       ...,\n",
              "       [0],\n",
              "       [0],\n",
              "       [0]], dtype=object)"
            ]
          },
          "metadata": {
            "tags": []
          },
          "execution_count": 29
        }
      ]
    },
    {
      "cell_type": "code",
      "metadata": {
        "id": "IKe7StDxLEkn"
      },
      "source": [
        "epochs = 20\n",
        "batch_size = 64"
      ],
      "execution_count": 49,
      "outputs": []
    },
    {
      "cell_type": "code",
      "metadata": {
        "id": "rpsm0LvsMKUT"
      },
      "source": [
        "# Fix seed value for reproducible results\n",
        "seed_val = 42\n",
        "random.seed(seed_val)\n",
        "np.random.seed(seed_val)\n",
        "tf.random.set_seed(seed_val)"
      ],
      "execution_count": 50,
      "outputs": []
    },
    {
      "cell_type": "code",
      "metadata": {
        "id": "xHuBH29D2sxp",
        "colab": {
          "base_uri": "https://localhost:8080/"
        },
        "outputId": "188eee28-0d82-4329-e532-e51647db15a7"
      },
      "source": [
        "model.fit(x=train_text['text'].values, \n",
        "          y=train_text['claim'].values.reshape(-1, 1).astype('float32'), \n",
        "          validation_data=(val_text['text'].values, val_text['claim'].values.reshape(-1,1).astype('float32')),\n",
        "          epochs=epochs, \n",
        "          batch_size=batch_size, \n",
        "          shuffle=True, \n",
        "          callbacks=myCallbacks)"
      ],
      "execution_count": 51,
      "outputs": [
        {
          "output_type": "stream",
          "text": [
            "Epoch 1/20\n",
            "520/520 [==============================] - 14s 18ms/step - loss: 0.2454 - accuracy: 0.9218 - f1: 0.1390 - precision: 0.2298 - recall: 0.1181 - val_loss: 0.1516 - val_accuracy: 0.9409 - val_f1: 0.3871 - val_precision: 0.5967 - val_recall: 0.3131\n",
            "\n",
            "Epoch 00001: val_loss improved from inf to 0.15157, saving model to drive/MyDrive/ColabNotebooks/claim_check_worthiness/best-model.hdf5\n",
            "Epoch 2/20\n",
            "520/520 [==============================] - 8s 16ms/step - loss: 0.1349 - accuracy: 0.9494 - f1: 0.5035 - precision: 0.7172 - recall: 0.4270 - val_loss: 0.1427 - val_accuracy: 0.9433 - val_f1: 0.4149 - val_precision: 0.6300 - val_recall: 0.3318\n",
            "\n",
            "Epoch 00002: val_loss improved from 0.15157 to 0.14274, saving model to drive/MyDrive/ColabNotebooks/claim_check_worthiness/best-model.hdf5\n",
            "Epoch 3/20\n",
            "520/520 [==============================] - 8s 16ms/step - loss: 0.1120 - accuracy: 0.9590 - f1: 0.6198 - precision: 0.8186 - recall: 0.5348 - val_loss: 0.1235 - val_accuracy: 0.9502 - val_f1: 0.5576 - val_precision: 0.7001 - val_recall: 0.5009\n",
            "\n",
            "Epoch 00003: val_loss improved from 0.14274 to 0.12351, saving model to drive/MyDrive/ColabNotebooks/claim_check_worthiness/best-model.hdf5\n",
            "Epoch 4/20\n",
            "520/520 [==============================] - 9s 16ms/step - loss: 0.0870 - accuracy: 0.9706 - f1: 0.7393 - precision: 0.9029 - recall: 0.6646 - val_loss: 0.1095 - val_accuracy: 0.9579 - val_f1: 0.5954 - val_precision: 0.8065 - val_recall: 0.4986\n",
            "\n",
            "Epoch 00004: val_loss improved from 0.12351 to 0.10952, saving model to drive/MyDrive/ColabNotebooks/claim_check_worthiness/best-model.hdf5\n",
            "Epoch 5/20\n",
            "520/520 [==============================] - 9s 16ms/step - loss: 0.0615 - accuracy: 0.9806 - f1: 0.8355 - precision: 0.9435 - recall: 0.7783 - val_loss: 0.0990 - val_accuracy: 0.9627 - val_f1: 0.6576 - val_precision: 0.8052 - val_recall: 0.5864\n",
            "\n",
            "Epoch 00005: val_loss improved from 0.10952 to 0.09899, saving model to drive/MyDrive/ColabNotebooks/claim_check_worthiness/best-model.hdf5\n",
            "Epoch 6/20\n",
            "520/520 [==============================] - 8s 16ms/step - loss: 0.0422 - accuracy: 0.9888 - f1: 0.9080 - precision: 0.9671 - recall: 0.8747 - val_loss: 0.0866 - val_accuracy: 0.9690 - val_f1: 0.7259 - val_precision: 0.8387 - val_recall: 0.6695\n",
            "\n",
            "Epoch 00006: val_loss improved from 0.09899 to 0.08656, saving model to drive/MyDrive/ColabNotebooks/claim_check_worthiness/best-model.hdf5\n",
            "Epoch 7/20\n",
            "520/520 [==============================] - 8s 16ms/step - loss: 0.0292 - accuracy: 0.9941 - f1: 0.9428 - precision: 0.9786 - recall: 0.9201 - val_loss: 0.0795 - val_accuracy: 0.9688 - val_f1: 0.7056 - val_precision: 0.8324 - val_recall: 0.6500\n",
            "\n",
            "Epoch 00007: val_loss improved from 0.08656 to 0.07953, saving model to drive/MyDrive/ColabNotebooks/claim_check_worthiness/best-model.hdf5\n",
            "Epoch 8/20\n",
            "520/520 [==============================] - 8s 16ms/step - loss: 0.0187 - accuracy: 0.9973 - f1: 0.9565 - precision: 0.9710 - recall: 0.9478 - val_loss: 0.0705 - val_accuracy: 0.9738 - val_f1: 0.7877 - val_precision: 0.8497 - val_recall: 0.7720\n",
            "\n",
            "Epoch 00008: val_loss improved from 0.07953 to 0.07047, saving model to drive/MyDrive/ColabNotebooks/claim_check_worthiness/best-model.hdf5\n",
            "Epoch 9/20\n",
            "520/520 [==============================] - 9s 16ms/step - loss: 0.0122 - accuracy: 0.9992 - f1: 0.9814 - precision: 0.9876 - recall: 0.9770 - val_loss: 0.0665 - val_accuracy: 0.9760 - val_f1: 0.7764 - val_precision: 0.8965 - val_recall: 0.7216\n",
            "\n",
            "Epoch 00009: val_loss improved from 0.07047 to 0.06646, saving model to drive/MyDrive/ColabNotebooks/claim_check_worthiness/best-model.hdf5\n",
            "Epoch 10/20\n",
            "520/520 [==============================] - 8s 16ms/step - loss: 0.0079 - accuracy: 0.9998 - f1: 0.9857 - precision: 0.9870 - recall: 0.9847 - val_loss: 0.0645 - val_accuracy: 0.9767 - val_f1: 0.7947 - val_precision: 0.8840 - val_recall: 0.7510\n",
            "\n",
            "Epoch 00010: val_loss improved from 0.06646 to 0.06455, saving model to drive/MyDrive/ColabNotebooks/claim_check_worthiness/best-model.hdf5\n",
            "Epoch 11/20\n",
            "520/520 [==============================] - 9s 17ms/step - loss: 0.0059 - accuracy: 0.9999 - f1: 0.9802 - precision: 0.9813 - recall: 0.9795 - val_loss: 0.0686 - val_accuracy: 0.9762 - val_f1: 0.7740 - val_precision: 0.8871 - val_recall: 0.7181\n",
            "\n",
            "Epoch 00011: val_loss did not improve from 0.06455\n",
            "Epoch 12/20\n",
            "520/520 [==============================] - 8s 16ms/step - loss: 0.0037 - accuracy: 1.0000 - f1: 0.9930 - precision: 0.9930 - recall: 0.9930 - val_loss: 0.0636 - val_accuracy: 0.9786 - val_f1: 0.8171 - val_precision: 0.8752 - val_recall: 0.7924\n",
            "\n",
            "Epoch 00012: val_loss improved from 0.06455 to 0.06362, saving model to drive/MyDrive/ColabNotebooks/claim_check_worthiness/best-model.hdf5\n",
            "Epoch 13/20\n",
            "520/520 [==============================] - 8s 16ms/step - loss: 0.0026 - accuracy: 1.0000 - f1: 0.9817 - precision: 0.9816 - recall: 0.9817 - val_loss: 0.0708 - val_accuracy: 0.9745 - val_f1: 0.7945 - val_precision: 0.8472 - val_recall: 0.7862\n",
            "\n",
            "Epoch 00013: val_loss did not improve from 0.06362\n",
            "Epoch 14/20\n",
            "520/520 [==============================] - 9s 17ms/step - loss: 0.0036 - accuracy: 0.9998 - f1: 0.9816 - precision: 0.9824 - recall: 0.9809 - val_loss: 0.0677 - val_accuracy: 0.9779 - val_f1: 0.8056 - val_precision: 0.8751 - val_recall: 0.7772\n",
            "\n",
            "Epoch 00014: val_loss did not improve from 0.06362\n",
            "Epoch 15/20\n",
            "520/520 [==============================] - 8s 16ms/step - loss: 0.0021 - accuracy: 1.0000 - f1: 0.9947 - precision: 0.9949 - recall: 0.9946 - val_loss: 0.0639 - val_accuracy: 0.9784 - val_f1: 0.8076 - val_precision: 0.8855 - val_recall: 0.7726\n",
            "\n",
            "Epoch 00015: val_loss did not improve from 0.06362\n"
          ],
          "name": "stdout"
        },
        {
          "output_type": "execute_result",
          "data": {
            "text/plain": [
              "<tensorflow.python.keras.callbacks.History at 0x7f189b2eb7b8>"
            ]
          },
          "metadata": {
            "tags": []
          },
          "execution_count": 51
        }
      ]
    },
    {
      "cell_type": "code",
      "metadata": {
        "id": "ZI0tTHl00sUn"
      },
      "source": [
        "history = model.history"
      ],
      "execution_count": 52,
      "outputs": []
    },
    {
      "cell_type": "code",
      "metadata": {
        "id": "yV_-Mc-I8iqr",
        "colab": {
          "base_uri": "https://localhost:8080/",
          "height": 441
        },
        "outputId": "51bfd156-8a0d-4920-c059-0a44a43aa1b9"
      },
      "source": [
        "f, ax = plt.subplots(figsize=(10, 6))\n",
        "ax.set_title(\"Training and Validation Loss\")\n",
        "ax.plot(np.arange(1, 16, 1), history.history['loss'], 'b-o', label='Training')\n",
        "ax.plot(np.arange(1, 16, 1), history.history['val_loss'], 'g-o', label=\"Validation\")\n",
        "ax.set_xlabel(\"Epoch\")\n",
        "ax.set_ylabel(\"Loss\")\n",
        "ax.legend()\n",
        "ax.set_xticks(np.arange(1, epochs, 1))\n",
        "plt.tight_layout()"
      ],
      "execution_count": 53,
      "outputs": [
        {
          "output_type": "display_data",
          "data": {
            "image/png": "[encoded data removed]",
            "text/plain": [
              "<Figure size 720x432 with 1 Axes>"
            ]
          },
          "metadata": {
            "tags": []
          }
        }
      ]
    },
    {
      "cell_type": "code",
      "metadata": {
        "id": "nMqIoPDwDIh8"
      },
      "source": [
        "df_stats = pd.DataFrame({\"Training Loss\": history.history['loss'],\t\n",
        "                         \"Valid. Loss\": history.history['val_loss'],\t\n",
        "                         \"Valid. Acc\": history.history['val_accuracy'],\t\n",
        "                        #  \"Valid. F1\": history.history['val_f1'],\t\n",
        "                         \"Valid. Precision\": history.history['val_precision'],\t\n",
        "                         \"Valid. Recall\": history.history['val_recall']})\n",
        "df_stats.index.names = ['Epoch']\n",
        "df_stats.index = np.arange(1, 16, 1)"
      ],
      "execution_count": 54,
      "outputs": []
    },
    {
      "cell_type": "code",
      "metadata": {
        "id": "pqtHJ0FDFWPe",
        "colab": {
          "base_uri": "https://localhost:8080/",
          "height": 514
        },
        "outputId": "e5671267-c338-4644-e01a-2fd2630004dd"
      },
      "source": [
        "df_stats"
      ],
      "execution_count": 55,
      "outputs": [
        {
          "output_type": "execute_result",
          "data": {
            "text/html": [
              "<div>\n",
              "<style scoped>\n",
              "    .dataframe tbody tr th:only-of-type {\n",
              "        vertical-align: middle;\n",
              "    }\n",
              "\n",
              "    .dataframe tbody tr th {\n",
              "        vertical-align: top;\n",
              "    }\n",
              "\n",
              "    .dataframe thead th {\n",
              "        text-align: right;\n",
              "    }\n",
              "</style>\n",
              "<table border=\"1\" class=\"dataframe\">\n",
              "  <thead>\n",
              "    <tr style=\"text-align: right;\">\n",
              "      <th></th>\n",
              "      <th>Training Loss</th>\n",
              "      <th>Valid. Loss</th>\n",
              "      <th>Valid. Acc</th>\n",
              "      <th>Valid. Precision</th>\n",
              "      <th>Valid. Recall</th>\n",
              "    </tr>\n",
              "  </thead>\n",
              "  <tbody>\n",
              "    <tr>\n",
              "      <th>1</th>\n",
              "      <td>0.180297</td>\n",
              "      <td>0.151569</td>\n",
              "      <td>0.940865</td>\n",
              "      <td>0.596667</td>\n",
              "      <td>0.313095</td>\n",
              "    </tr>\n",
              "    <tr>\n",
              "      <th>2</th>\n",
              "      <td>0.133782</td>\n",
              "      <td>0.142738</td>\n",
              "      <td>0.943269</td>\n",
              "      <td>0.630000</td>\n",
              "      <td>0.331764</td>\n",
              "    </tr>\n",
              "    <tr>\n",
              "      <th>3</th>\n",
              "      <td>0.110536</td>\n",
              "      <td>0.123513</td>\n",
              "      <td>0.950240</td>\n",
              "      <td>0.700110</td>\n",
              "      <td>0.500916</td>\n",
              "    </tr>\n",
              "    <tr>\n",
              "      <th>4</th>\n",
              "      <td>0.084184</td>\n",
              "      <td>0.109518</td>\n",
              "      <td>0.957933</td>\n",
              "      <td>0.806520</td>\n",
              "      <td>0.498633</td>\n",
              "    </tr>\n",
              "    <tr>\n",
              "      <th>5</th>\n",
              "      <td>0.060062</td>\n",
              "      <td>0.098994</td>\n",
              "      <td>0.962740</td>\n",
              "      <td>0.805183</td>\n",
              "      <td>0.586386</td>\n",
              "    </tr>\n",
              "    <tr>\n",
              "      <th>6</th>\n",
              "      <td>0.041966</td>\n",
              "      <td>0.086557</td>\n",
              "      <td>0.968990</td>\n",
              "      <td>0.838718</td>\n",
              "      <td>0.669548</td>\n",
              "    </tr>\n",
              "    <tr>\n",
              "      <th>7</th>\n",
              "      <td>0.028277</td>\n",
              "      <td>0.079534</td>\n",
              "      <td>0.968750</td>\n",
              "      <td>0.832363</td>\n",
              "      <td>0.650000</td>\n",
              "    </tr>\n",
              "    <tr>\n",
              "      <th>8</th>\n",
              "      <td>0.019215</td>\n",
              "      <td>0.070471</td>\n",
              "      <td>0.973798</td>\n",
              "      <td>0.849725</td>\n",
              "      <td>0.771972</td>\n",
              "    </tr>\n",
              "    <tr>\n",
              "      <th>9</th>\n",
              "      <td>0.012254</td>\n",
              "      <td>0.066457</td>\n",
              "      <td>0.975962</td>\n",
              "      <td>0.896520</td>\n",
              "      <td>0.721593</td>\n",
              "    </tr>\n",
              "    <tr>\n",
              "      <th>10</th>\n",
              "      <td>0.008015</td>\n",
              "      <td>0.064547</td>\n",
              "      <td>0.976683</td>\n",
              "      <td>0.883956</td>\n",
              "      <td>0.751038</td>\n",
              "    </tr>\n",
              "    <tr>\n",
              "      <th>11</th>\n",
              "      <td>0.005537</td>\n",
              "      <td>0.068572</td>\n",
              "      <td>0.976202</td>\n",
              "      <td>0.887143</td>\n",
              "      <td>0.718144</td>\n",
              "    </tr>\n",
              "    <tr>\n",
              "      <th>12</th>\n",
              "      <td>0.003727</td>\n",
              "      <td>0.063621</td>\n",
              "      <td>0.978606</td>\n",
              "      <td>0.875159</td>\n",
              "      <td>0.792357</td>\n",
              "    </tr>\n",
              "    <tr>\n",
              "      <th>13</th>\n",
              "      <td>0.002752</td>\n",
              "      <td>0.070775</td>\n",
              "      <td>0.974519</td>\n",
              "      <td>0.847161</td>\n",
              "      <td>0.786154</td>\n",
              "    </tr>\n",
              "    <tr>\n",
              "      <th>14</th>\n",
              "      <td>0.003374</td>\n",
              "      <td>0.067710</td>\n",
              "      <td>0.977885</td>\n",
              "      <td>0.875055</td>\n",
              "      <td>0.777204</td>\n",
              "    </tr>\n",
              "    <tr>\n",
              "      <th>15</th>\n",
              "      <td>0.002250</td>\n",
              "      <td>0.063947</td>\n",
              "      <td>0.978365</td>\n",
              "      <td>0.885452</td>\n",
              "      <td>0.772613</td>\n",
              "    </tr>\n",
              "  </tbody>\n",
              "</table>\n",
              "</div>"
            ],
            "text/plain": [
              "    Training Loss  Valid. Loss  Valid. Acc  Valid. Precision  Valid. Recall\n",
              "1        0.180297     0.151569    0.940865          0.596667       0.313095\n",
              "2        0.133782     0.142738    0.943269          0.630000       0.331764\n",
              "3        0.110536     0.123513    0.950240          0.700110       0.500916\n",
              "4        0.084184     0.109518    0.957933          0.806520       0.498633\n",
              "5        0.060062     0.098994    0.962740          0.805183       0.586386\n",
              "6        0.041966     0.086557    0.968990          0.838718       0.669548\n",
              "7        0.028277     0.079534    0.968750          0.832363       0.650000\n",
              "8        0.019215     0.070471    0.973798          0.849725       0.771972\n",
              "9        0.012254     0.066457    0.975962          0.896520       0.721593\n",
              "10       0.008015     0.064547    0.976683          0.883956       0.751038\n",
              "11       0.005537     0.068572    0.976202          0.887143       0.718144\n",
              "12       0.003727     0.063621    0.978606          0.875159       0.792357\n",
              "13       0.002752     0.070775    0.974519          0.847161       0.786154\n",
              "14       0.003374     0.067710    0.977885          0.875055       0.777204\n",
              "15       0.002250     0.063947    0.978365          0.885452       0.772613"
            ]
          },
          "metadata": {
            "tags": []
          },
          "execution_count": 55
        }
      ]
    },
    {
      "cell_type": "markdown",
      "metadata": {
        "id": "iOxjbko-Po0k"
      },
      "source": [
        "This time the overfitting is not so explicit like before. Depite of also being overfitting since second epoch, this time at least, we can observe that validation loss curve continues decaying until the 8th epoch, meaning that the model was still being able to learn new features of the unseen data, in other words, being more able to generalize.\n",
        "\n",
        "From the 9th epoch in advance, validation loss gets stacked. \n",
        "\n",
        "However, looking to the classification report metrics, we can be happy because we have obtained now much better results than the ones obtained fine-tuning multilingual BERT. So this pre-trained model seems to capture more robustly nuaces in semantics than multilingual BERT does."
      ]
    },
    {
      "cell_type": "markdown",
      "metadata": {
        "id": "ZMunndxb7tHs"
      },
      "source": [
        "## Evaluate model 2: Multilingual Universal Sentence Encoder fine-tuning (only classification layer)"
      ]
    },
    {
      "cell_type": "code",
      "metadata": {
        "id": "xra4YZDaG8Wz"
      },
      "source": [
        "y_test = ohe.transform(test_text['claim'].values.reshape(-1,1))"
      ],
      "execution_count": null,
      "outputs": []
    },
    {
      "cell_type": "code",
      "metadata": {
        "id": "H2SlIur-7vrK",
        "colab": {
          "base_uri": "https://localhost:8080/"
        },
        "outputId": "c934dd8e-f7d6-4b9a-80e3-2f053ef9a491"
      },
      "source": [
        "metrics = model.evaluate(x=test_text['text'].values, \n",
        "                         y=test_text['claim'].values.reshape(-1,1).astype('float32'), \n",
        "                         batch_size=64)\n",
        "print(f\"Test Loss: {metrics[0]}, Test_acc: {metrics[1]}, Test_F1: {metrics[2]}, Test_precision: {metrics[3]}, Test_recall: {metrics[4]}\")"
      ],
      "execution_count": 56,
      "outputs": [
        {
          "output_type": "stream",
          "text": [
            "65/65 [==============================] - 1s 14ms/step - loss: 0.0638 - accuracy: 0.9791 - f1: 0.8259 - precision: 0.9151 - recall: 0.7879\n",
            "Test Loss: 0.06381001323461533, Test_acc: 0.9790865182876587, Test_F1: 0.8258501291275024, Test_precision: 0.9150548577308655, Test_recall: 0.787899911403656\n"
          ],
          "name": "stdout"
        }
      ]
    },
    {
      "cell_type": "code",
      "metadata": {
        "id": "uuvd7r-vHv14"
      },
      "source": [
        "pred_probs = model.predict(x=test_text['text'].values, \n",
        "                           batch_size=64)\n",
        "# y_pred = np.argmax(pred_probs, axis=1)\n",
        "y_pred = [0 if i < 0.5 else 1 for i in pred_probs]"
      ],
      "execution_count": 63,
      "outputs": []
    },
    {
      "cell_type": "code",
      "metadata": {
        "id": "Ngqdo4wNHGTg",
        "colab": {
          "base_uri": "https://localhost:8080/",
          "height": 441
        },
        "outputId": "649585c5-d015-477d-d796-18da64aa2dd5"
      },
      "source": [
        "# Confusion Matrix\n",
        "cm = confusion_matrix(y_true=np.float32(test_text['claim'].values), y_pred=y_pred)\n",
        "df_cm = pd.DataFrame(cm, index=[[l for l in ['no-claim', 'claim']]],\n",
        "                      columns=[[l for l in ['no-claim', 'claim']]])\n",
        "f, ax = plt.subplots(figsize=(6, 6))\n",
        "ax.set_title(\"Confusion Matrix\")\n",
        "cm_plot = sns.heatmap(df_cm, annot=True, fmt=\"d\", cmap=\"Blues\", linewidths=.5, cbar=False,\n",
        "                      square=True, ax=ax, norm=PowerNorm(gamma=0.15))\n",
        "ax.set_ylabel(\"True label\")\n",
        "ax.set_xlabel(\"Predicted label\")\n",
        "plt.tight_layout()"
      ],
      "execution_count": 64,
      "outputs": [
        {
          "output_type": "display_data",
          "data": {
            "image/png": "[encoded data removed]",
            "text/plain": [
              "<Figure size 432x432 with 1 Axes>"
            ]
          },
          "metadata": {
            "tags": []
          }
        }
      ]
    },
    {
      "cell_type": "code",
      "metadata": {
        "id": "sGbS1lEiIioQ"
      },
      "source": [
        "report_csv_muse = pd.DataFrame(columns=['sentence', 'claim_ground_truth', 'claim_prediction'])\n",
        "report_csv_muse['sentence'] = test_text['text']\n",
        "report_csv_muse['claim_ground_truth'] = test_text['claim']\n",
        "report_csv_muse['claim_prediction'] = y_pred"
      ],
      "execution_count": 65,
      "outputs": []
    },
    {
      "cell_type": "code",
      "metadata": {
        "id": "yc-Fo9XCKWQY"
      },
      "source": [
        "report_csv_muse.to_csv('drive/MyDrive/ColabNotebooks/claim_check_worthiness/report_muse.csv', index=False, encoding='utf8')"
      ],
      "execution_count": 66,
      "outputs": []
    },
    {
      "cell_type": "markdown",
      "metadata": {
        "id": "l01QhUpuSken"
      },
      "source": [
        "## Comparison analysis"
      ]
    },
    {
      "cell_type": "code",
      "metadata": {
        "id": "B0MMk5b8TxXW",
        "colab": {
          "base_uri": "https://localhost:8080/",
          "height": 441
        },
        "outputId": "71afc9a6-4f14-4303-a88d-cc3b0dba8490"
      },
      "source": [
        "bert_base_multilingual_cased = [0.964, 0.743, 0.773, 0.716]\n",
        "multilingual_USE = [0.979, 0.826, 0.915, 0.788]\n",
        "\n",
        "ind = np.arange(4) \n",
        "width = 0.35    \n",
        "f, ax = plt.subplots(figsize=(14, 6))   \n",
        "ax.bar(ind, bert_base_multilingual_cased, width, label='bert_base_multilingual_cased', color=sns.color_palette(\"Blues_d\")[3])\n",
        "ax.bar(ind + width, multilingual_USE, width,\n",
        "    label='multilingual_USE', color=sns.color_palette(\"Blues_d\")[0])\n",
        "\n",
        "ax.set_ylabel('%')\n",
        "ax.set_title('Performance Metrics', fontsize=15)\n",
        "ax.set_xticks(ind + width / 2)\n",
        "ax.set_xticklabels(('Accuracy', 'F1', 'Precision', 'Recall'), fontsize=15)\n",
        "ax.set_yticklabels(('0', '20', '40', '60', '80', '100'))\n",
        "plt.legend(bbox_to_anchor=(1.01, 1), loc=2, borderaxespad=0., fontsize=15)\n",
        "plt.tight_layout()"
      ],
      "execution_count": 67,
      "outputs": [
        {
          "output_type": "display_data",
          "data": {
            "image/png": "[encoded data removed]",
            "text/plain": [
              "<Figure size 1008x432 with 1 Axes>"
            ]
          },
          "metadata": {
            "tags": []
          }
        }
      ]
    }
  ]
}